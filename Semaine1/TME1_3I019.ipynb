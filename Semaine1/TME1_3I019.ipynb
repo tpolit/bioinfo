{
 "cells": [
  {
   "source": [
    "# TME 1 : Rappels de Python et Linux"
   ],
   "cell_type": "markdown",
   "metadata": {}
  },
  {
   "cell_type": "markdown",
   "metadata": {},
   "source": [
    "Les objets de base utilisés dans les analyse bioinformatiques sont les chaînes de caractères.\n",
    "Chaque caractère de ces séquences réprésente le bloc de base qui compose une macromolécule.\n",
    "Par example les caractères qui réprésentent les différentes bases de l'ADN (`ACTG`).\n",
    "Une des opérations les plus courante est donc de manipuler les séquences, et Python est un  language qui permet ces manipulations de manière très pratique. Regardons quelques exemples"
   ]
  },
  {
   "cell_type": "markdown",
   "metadata": {},
   "source": [
    "## Partie 1 : Rappels de python\n",
    "\n",
    "### Les chaînes de caractères en Python"
   ]
  },
  {
   "source": [
    "dna = 'CTGACCACTTTACGAGGTTAGC'"
   ],
   "cell_type": "code",
   "metadata": {},
   "execution_count": 1,
   "outputs": []
  },
  {
   "cell_type": "markdown",
   "metadata": {},
   "source": [
    "Nous avons déclaré une variable `dna` qui contient une chaîne de caractères."
   ]
  },
  {
   "cell_type": "markdown",
   "metadata": {},
   "source": [
    "Sur ce type de variables (`str`) nous pouvons accéder directement aux indexes:"
   ]
  },
  {
   "cell_type": "code",
   "execution_count": 2,
   "metadata": {},
   "outputs": [
    {
     "output_type": "execute_result",
     "data": {
      "text/plain": [
       "'C'"
      ]
     },
     "metadata": {},
     "execution_count": 2
    }
   ],
   "source": [
    "# obtenir le premier caractère\n",
    "dna[0]"
   ]
  },
  {
   "cell_type": "markdown",
   "metadata": {},
   "source": [
    "Nous pouvons également utiliser ce qu'on nomme des \"slices\":"
   ]
  },
  {
   "cell_type": "code",
   "execution_count": 3,
   "metadata": {},
   "outputs": [
    {
     "output_type": "execute_result",
     "data": {
      "text/plain": [
       "'CT'"
      ]
     },
     "metadata": {},
     "execution_count": 3
    }
   ],
   "source": [
    "# obtenir les deux derniers caractères\n",
    "dna[0:2]"
   ]
  },
  {
   "cell_type": "code",
   "execution_count": 4,
   "metadata": {},
   "outputs": [
    {
     "output_type": "execute_result",
     "data": {
      "text/plain": [
       "'TAC'"
      ]
     },
     "metadata": {},
     "execution_count": 4
    }
   ],
   "source": [
    "# obtenir les trois caractères au milieu de la chaîne\n",
    "dna[(len(dna) // 2) - 1:(len(dna) // 2) + 2]"
   ]
  },
  {
   "cell_type": "markdown",
   "metadata": {},
   "source": [
    "Les chaînes de caractère sont des objets immuables : on ne peut pas changer leur valeur après affection."
   ]
  },
  {
   "cell_type": "code",
   "execution_count": 5,
   "metadata": {},
   "outputs": [
    {
     "output_type": "error",
     "ename": "TypeError",
     "evalue": "'str' object does not support item assignment",
     "traceback": [
      "\u001b[1;31m---------------------------------------------------------------------------\u001b[0m",
      "\u001b[1;31mTypeError\u001b[0m                                 Traceback (most recent call last)",
      "\u001b[1;32m<ipython-input-5-8f5d9564a4c6>\u001b[0m in \u001b[0;36m<module>\u001b[1;34m\u001b[0m\n\u001b[1;32m----> 1\u001b[1;33m \u001b[0mdna\u001b[0m\u001b[1;33m[\u001b[0m\u001b[1;36m6\u001b[0m\u001b[1;33m]\u001b[0m \u001b[1;33m=\u001b[0m \u001b[1;34m\"T\"\u001b[0m\u001b[1;33m\u001b[0m\u001b[1;33m\u001b[0m\u001b[0m\n\u001b[0m",
      "\u001b[1;31mTypeError\u001b[0m: 'str' object does not support item assignment"
     ]
    }
   ],
   "source": [
    "dna[6] = \"T\""
   ]
  },
  {
   "cell_type": "markdown",
   "metadata": {},
   "source": [
    "L'expression précédente n'est pas permise car nous essayons de changer la valeur d'une chaîne de caractère qui est un objet immuable (attention à ne pas confondre avec des listes)"
   ]
  },
  {
   "cell_type": "markdown",
   "metadata": {},
   "source": [
    "En python, il existe une grande varieté de méthodes pour les chaines de caractères.\n",
    "Ces méthodes peuvent être appelées pour tout objet de type `str` (y compris des functions)."
   ]
  },
  {
   "cell_type": "code",
   "execution_count": 6,
   "metadata": {},
   "outputs": [
    {
     "output_type": "execute_result",
     "data": {
      "text/plain": [
       "'ctgaccactttacgaggttagc'"
      ]
     },
     "metadata": {},
     "execution_count": 6
    }
   ],
   "source": [
    "# Convertir en minuscule\n",
    "dna.lower()"
   ]
  },
  {
   "cell_type": "code",
   "execution_count": 7,
   "metadata": {},
   "outputs": [
    {
     "output_type": "execute_result",
     "data": {
      "text/plain": [
       "8"
      ]
     },
     "metadata": {},
     "execution_count": 7
    }
   ],
   "source": [
    "# Trouver où est 'TTT'\n",
    "dna.find(\"TTT\")"
   ]
  },
  {
   "cell_type": "code",
   "execution_count": 8,
   "metadata": {},
   "outputs": [
    {
     "output_type": "execute_result",
     "data": {
      "text/plain": [
       "-1"
      ]
     },
     "metadata": {},
     "execution_count": 8
    }
   ],
   "source": [
    "# Y a-t-il une 'N' a l'intérieur de la chaîne\n",
    "dna.find(\"N\")\n"
   ]
  },
  {
   "cell_type": "code",
   "execution_count": 9,
   "metadata": {},
   "outputs": [
    {
     "output_type": "execute_result",
     "data": {
      "text/plain": [
       "2"
      ]
     },
     "metadata": {},
     "execution_count": 9
    }
   ],
   "source": [
    "# Combien de 'TT' il y a?\n",
    "dna.count(\"TT\")"
   ]
  },
  {
   "cell_type": "code",
   "execution_count": 10,
   "metadata": {},
   "outputs": [
    {
     "output_type": "execute_result",
     "data": {
      "text/plain": [
       "'CTGTCCTCTTTTCGTGGTTTGC'"
      ]
     },
     "metadata": {},
     "execution_count": 10
    }
   ],
   "source": [
    "# Obtenir une chaine avec \"A\" en place de \"T\"\n",
    "dna.replace(\"A\",\"T\")"
   ]
  },
  {
   "cell_type": "code",
   "execution_count": 11,
   "metadata": {},
   "outputs": [
    {
     "output_type": "execute_result",
     "data": {
      "text/plain": [
       "True"
      ]
     },
     "metadata": {},
     "execution_count": 11
    }
   ],
   "source": [
    "# La chaîne commence-t-elle par \"CTG\"?\n",
    "dna.find(\"CTG\") == 0"
   ]
  },
  {
   "cell_type": "markdown",
   "metadata": {},
   "source": [
    "Nous pouvons également utiliser des listes pour stocker des objets.\n",
    "Les listes peuvent contenir des objets de type différents.\n",
    "Les listes peuvent être transformées assez simplement en chaînes de caractères à l'aide de la méthode `join`."
   ]
  },
  {
   "cell_type": "code",
   "execution_count": 12,
   "metadata": {},
   "outputs": [
    {
     "output_type": "execute_result",
     "data": {
      "text/plain": [
       "'A,C,G,T'"
      ]
     },
     "metadata": {},
     "execution_count": 12
    }
   ],
   "source": [
    "bases = ['A', 'C', 'G', 'T']\n",
    "\",\".join(bases)"
   ]
  },
  {
   "cell_type": "code",
   "execution_count": 13,
   "metadata": {},
   "outputs": [],
   "source": [
    "# Ajouter \"U\" à la liste\n",
    "bases.append('U')"
   ]
  },
  {
   "cell_type": "code",
   "execution_count": 14,
   "metadata": {},
   "outputs": [
    {
     "output_type": "execute_result",
     "data": {
      "text/plain": [
       "True"
      ]
     },
     "metadata": {},
     "execution_count": 14
    }
   ],
   "source": [
    "# Y a-t-il une 'N' a l'intérieur de la liste\n",
    "\"N\" not in bases"
   ]
  },
  {
   "cell_type": "code",
   "execution_count": 15,
   "metadata": {},
   "outputs": [
    {
     "output_type": "error",
     "ename": "TypeError",
     "evalue": "can only join an iterable",
     "traceback": [
      "\u001b[1;31m---------------------------------------------------------------------------\u001b[0m",
      "\u001b[1;31mTypeError\u001b[0m                                 Traceback (most recent call last)",
      "\u001b[1;32m<ipython-input-15-ac1e0c8c8d64>\u001b[0m in \u001b[0;36m<module>\u001b[1;34m\u001b[0m\n\u001b[0;32m      1\u001b[0m \u001b[1;31m# Utilisez join pour obtenir une chaîne avec la séquence inverse de la liste\u001b[0m\u001b[1;33m\u001b[0m\u001b[1;33m\u001b[0m\u001b[1;33m\u001b[0m\u001b[0m\n\u001b[1;32m----> 2\u001b[1;33m \u001b[1;34m\",\"\u001b[0m\u001b[1;33m.\u001b[0m\u001b[0mjoin\u001b[0m\u001b[1;33m(\u001b[0m\u001b[0mbases\u001b[0m\u001b[1;33m.\u001b[0m\u001b[0mreverse\u001b[0m\u001b[1;33m(\u001b[0m\u001b[1;33m)\u001b[0m\u001b[1;33m)\u001b[0m\u001b[1;33m\u001b[0m\u001b[1;33m\u001b[0m\u001b[0m\n\u001b[0m",
      "\u001b[1;31mTypeError\u001b[0m: can only join an iterable"
     ]
    }
   ],
   "source": [
    "# Utilisez join pour obtenir une chaîne avec la séquence inverse de la liste\n",
    "\",\".join(bases.reverse())"
   ]
  },
  {
   "cell_type": "code",
   "execution_count": 16,
   "metadata": {},
   "outputs": [
    {
     "output_type": "stream",
     "name": "stdout",
     "text": [
      "CGATTGGAGCATTTCACCAGTC\n"
     ]
    }
   ],
   "source": [
    "# Utilisez slicing pour obtenir la chaîne inverse de la chaîne d'adn\n",
    "print(dna[::-1])"
   ]
  },
  {
   "cell_type": "markdown",
   "metadata": {},
   "source": [
    "### Les fonctions\n",
    "\n",
    "Comme dans la plupart des langages de programmation nous pouvons utiliser des fonctions définies par le développeur.\n",
    "\n",
    "En python, toute expression qui suit le caractère ':' doit être indentée avec `n` espaces \n",
    "(`n` dois être le même tout le long du script) "
   ]
  },
  {
   "cell_type": "code",
   "execution_count": 17,
   "metadata": {},
   "outputs": [],
   "source": [
    "import doctest"
   ]
  },
  {
   "cell_type": "code",
   "execution_count": 18,
   "metadata": {},
   "outputs": [
    {
     "output_type": "execute_result",
     "data": {
      "text/plain": [
       "TestResults(failed=0, attempted=1)"
      ]
     },
     "metadata": {},
     "execution_count": 18
    }
   ],
   "source": [
    "# S'il vous plaît, corrigez la fonction pour faire passer le doctest\n",
    "def transcribe(dna):\n",
    "    \"\"\"\n",
    "    Return dna string as rna string.\n",
    "    \n",
    "    >>> transcribe('ACTG')\n",
    "    'ACUG'\n",
    "    \"\"\"\n",
    "    return dna.replace('T', 'U')\n",
    "\n",
    "doctest.testmod()"
   ]
  },
  {
   "cell_type": "code",
   "execution_count": 19,
   "metadata": {},
   "outputs": [
    {
     "output_type": "execute_result",
     "data": {
      "text/plain": [
       "TestResults(failed=0, attempted=1)"
      ]
     },
     "metadata": {},
     "execution_count": 19
    }
   ],
   "source": [
    "# Écrire un doctest pour la fonction\n",
    "def reverse(s):\n",
    "    \"\"\"Return the sequence string in reverse order.\"\"\" \n",
    "    letters = list(s)\n",
    "    letters.reverse()\n",
    "    return ''.join(letters)\n",
    "\n",
    "doctest.testmod()"
   ]
  },
  {
   "cell_type": "markdown",
   "metadata": {},
   "source": [
    "### Dictionnaires\n",
    "\n",
    "Un dictionnaire Python a le même avantage qu'un dictionnaire papier. Il vous permet de localiser rapidement la valeur (définition) associée à une clé (mot). Les dictionnaires sont désignés par des accolades et contiennent une séquence séparée par des virgules de paires `clé`: `valeur`. On accède aux valeurs du dictionnaire par leur valeur de clé, plutôt que leur position dans la séquence. Examinons ici quelques-unes des méthodes prises en charge par les dictionnaires."
   ]
  },
  {
   "cell_type": "code",
   "execution_count": 20,
   "metadata": {},
   "outputs": [],
   "source": [
    "basecomplement = {'A': 'T', 'C': 'G', 'T': 'A', 'G': 'C'}"
   ]
  },
  {
   "cell_type": "code",
   "execution_count": 21,
   "metadata": {},
   "outputs": [
    {
     "output_type": "execute_result",
     "data": {
      "text/plain": [
       "dict_keys(['A', 'C', 'T', 'G'])"
      ]
     },
     "metadata": {},
     "execution_count": 21
    }
   ],
   "source": [
    "basecomplement.keys()"
   ]
  },
  {
   "cell_type": "code",
   "execution_count": 22,
   "metadata": {},
   "outputs": [
    {
     "output_type": "execute_result",
     "data": {
      "text/plain": [
       "dict_values(['T', 'G', 'A', 'C'])"
      ]
     },
     "metadata": {},
     "execution_count": 22
    }
   ],
   "source": [
    "basecomplement.values()"
   ]
  },
  {
   "cell_type": "code",
   "execution_count": 23,
   "metadata": {},
   "outputs": [
    {
     "output_type": "stream",
     "name": "stdout",
     "text": [
      "The complement of A is T\nThe complement of C is G\nThe complement of T is A\nThe complement of G is C\n"
     ]
    }
   ],
   "source": [
    "# remplissez le '...' avec le code approprié\n",
    "for base,complement in basecomplement.items():\n",
    "    print(\"The complement of\", base, \"is\", complement)"
   ]
  },
  {
   "cell_type": "markdown",
   "metadata": {},
   "source": [
    "### Compréhension de listes\n",
    "\n",
    "L'exemple suivant démontre une autre technique dont nous aurons besoin dans la création d'une fonction de complément. C'est une fonctionnalité appelée _compréhension de liste_."
   ]
  },
  {
   "cell_type": "code",
   "execution_count": 24,
   "metadata": {},
   "outputs": [
    {
     "output_type": "stream",
     "name": "stdout",
     "text": [
      "['G', 'G', 'C', 'C', 'T', 'T', 'C', 'T', 'C', 'G', 'A', 'A', 'T', 'G', 'A', 'A', 'T', 'C']\n"
     ]
    }
   ],
   "source": [
    "letters   = 'CCGGAAGAGCTTACTTAG'\n",
    "list_comp = [basecomplement[base] for base in letters]\n",
    "print(list_comp)"
   ]
  },
  {
   "cell_type": "markdown",
   "metadata": {},
   "source": [
    "Nous pouvons également filtrer ce qu'on va mettre dans notre liste"
   ]
  },
  {
   "cell_type": "code",
   "execution_count": 25,
   "metadata": {},
   "outputs": [
    {
     "output_type": "stream",
     "name": "stdout",
     "text": [
      "['A', 'A', 'A', 'A']\n"
     ]
    }
   ],
   "source": [
    "list_comp_f = [basecomplement[base] for base in letters if base == 'T']\n",
    "print(list_comp_f)"
   ]
  },
  {
   "cell_type": "markdown",
   "metadata": {},
   "source": [
    "Les compréhensions de listes permettent également de facilement créer des dictionaires"
   ]
  },
  {
   "cell_type": "code",
   "execution_count": 26,
   "metadata": {},
   "outputs": [
    {
     "output_type": "execute_result",
     "data": {
      "text/plain": [
       "{'C': 'G', 'G': 'C', 'A': 'T', 'T': 'A'}"
      ]
     },
     "metadata": {},
     "execution_count": 26
    }
   ],
   "source": [
    "letters   = 'CCGGAAGAGCTTACTTAG'\n",
    "dict_comp = {base : basecomplement[base] for base in letters}\n",
    "dict_comp"
   ]
  },
  {
   "cell_type": "markdown",
   "metadata": {},
   "source": [
    "Une compréhension de liste renvoie une liste et fonctionne de façon similaire à une boucle for, mais dans un format beaucoup plus compact et efficace. \n",
    "\n",
    "Dans ce cas, il nous permet de retourner une nouvelle liste dans laquelle chaque base de la liste de lettres originale a été remplacée par son complément, que nous avons extrait du dictionnaire de base. Voyons comment nous mettons tout cela ensemble."
   ]
  },
  {
   "cell_type": "code",
   "execution_count": 28,
   "metadata": {},
   "outputs": [],
   "source": [
    "# remplissez '...' avec le code approprié\n",
    "def complement(s):\n",
    "    \"\"\"Return the complementary sequence string.\"\"\"\n",
    "    basecomplement = {'A': 'T', 'C': 'G', 'G': 'C', 'T': 'A'}\n",
    "    letters = [basecomplement[base] for base in s]\n",
    "    return ''.join(letters)\n",
    "\n",
    "\n",
    "def reversecomplement(s):\n",
    "    return complement(reverse(s))\n",
    "\n",
    "assert reversecomplement('CCGGAAGAGCTTACTTAG') == 'CTAAGTAAGCTCTTCCGG'"
   ]
  },
  {
   "cell_type": "code",
   "execution_count": 29,
   "metadata": {},
   "outputs": [
    {
     "output_type": "execute_result",
     "data": {
      "text/plain": [
       "TestResults(failed=0, attempted=2)"
      ]
     },
     "metadata": {},
     "execution_count": 29
    }
   ],
   "source": [
    "# remplissez '...' avec le code approprié\n",
    "def gc(s):\n",
    "    \"\"\"\n",
    "    Return the percentage of dna composed of G+C.\n",
    "    \n",
    "    >>> gc('CCGGAAGAGCTTACTTAGTTA')\n",
    "    42.857142857142854\n",
    "    \"\"\" \n",
    "    gc = len([1 for base in s if base == \"G\" or base == \"C\"])\n",
    "    return gc * 100.0 / len(s)\n",
    "\n",
    "doctest.testmod()"
   ]
  },
  {
   "cell_type": "markdown",
   "metadata": {},
   "source": [
    "La function `complement` renvoie l'ADN complementaire tandis que la fonction `reversecomplement` se sert de la fonction `reverse` dont le résultat est envoyé comme paramètre à la fonction complement, ce qui donne bien le reverse complement."
   ]
  },
  {
   "cell_type": "markdown",
   "metadata": {},
   "source": [
    "## Partie 2: Bash et la manipulation de fichiers.\n",
    "\n",
    "Une commandre très utile pour se répérer assez rapidment c'est la command `pwd`. Qui nous imprime sur l'écran l'emplacement actuel. C'est outil pour savoir ou on est sur la structure de répértoires (notez le texte ``%%bash`` pour dire à Jupyter d'interpreter une commande de shell bash)."
   ]
  },
  {
   "cell_type": "code",
   "execution_count": 30,
   "metadata": {},
   "outputs": [
    {
     "output_type": "stream",
     "name": "stdout",
     "text": [
      "Couldn't find program: 'bash'\n"
     ]
    }
   ],
   "source": [
    "%%bash\n",
    "pwd"
   ]
  },
  {
   "cell_type": "markdown",
   "metadata": {},
   "source": [
    "Maintenant nous allons télécharger 2 fichiers.\n",
    "Un contenant un tableau et l'autre contenant des séquences d'ADN.\n",
    "Nous pouvons télécharger des fichiers d'internet à l'aide de la commande ``wget``"
   ]
  },
  {
   "cell_type": "code",
   "execution_count": 31,
   "metadata": {
    "scrolled": true
   },
   "outputs": [
    {
     "output_type": "stream",
     "name": "stdout",
     "text": [
      "Couldn't find program: 'bash'\n"
     ]
    }
   ],
   "source": [
    "%%bash\n",
    "wget ftp://ftp.ncbi.nlm.nih.gov/genomes/all/GCA/000/741/095/GCA_000741095.1_Bifact/GCA_000741095.1_Bifact_feature_table.txt.gz"
   ]
  },
  {
   "cell_type": "code",
   "execution_count": 32,
   "metadata": {},
   "outputs": [
    {
     "output_type": "stream",
     "name": "stdout",
     "text": [
      "Couldn't find program: 'bash'\n"
     ]
    }
   ],
   "source": [
    "%%bash\n",
    "wget ftp://ftp.ncbi.nlm.nih.gov/genomes/all/GCA/000/741/095/GCA_000741095.1_Bifact/GCA_000741095.1_Bifact_cds_from_genomic.fna.gz"
   ]
  },
  {
   "cell_type": "markdown",
   "metadata": {},
   "source": [
    "Pour extraire des fichiers nous utilisons la commande ``gunzip``"
   ]
  },
  {
   "cell_type": "code",
   "execution_count": 33,
   "metadata": {},
   "outputs": [
    {
     "output_type": "stream",
     "name": "stdout",
     "text": [
      "Couldn't find program: 'bash'\n"
     ]
    }
   ],
   "source": [
    "%%bash\n",
    "gunzip -d GCA_000741095.1_Bifact_cds_from_genomic.fna.gz\n",
    "gunzip -d GCA_000741095.1_Bifact_feature_table.txt.gz"
   ]
  },
  {
   "cell_type": "markdown",
   "metadata": {},
   "source": [
    "Une fois les fichiers décompréssées nous pouvons explorer les premieres lignes"
   ]
  },
  {
   "cell_type": "code",
   "execution_count": 34,
   "metadata": {},
   "outputs": [
    {
     "output_type": "stream",
     "name": "stdout",
     "text": [
      "Couldn't find program: 'bash'\n"
     ]
    }
   ],
   "source": [
    "%%bash\n",
    "head GCA_000741095.1_Bifact_cds_from_genomic.fna"
   ]
  },
  {
   "cell_type": "markdown",
   "metadata": {},
   "source": [
    "Ce fichier que l'on viens de voir est un fichier au format fasta.\n",
    "\n",
    "Ce fichiers sont composées par des identifiants commençant par le character \">\" suivi d'une ou de plusieurs lignes contenant des séquences.\n",
    "\n",
    "Pour cet example nous avons toute les séquences codantes rétrouvées dans le génome de l'espèce _Bifidobacterium_\n",
    "\n",
    "Regardons l'autre fichier."
   ]
  },
  {
   "cell_type": "code",
   "execution_count": 35,
   "metadata": {},
   "outputs": [
    {
     "output_type": "stream",
     "name": "stdout",
     "text": [
      "Couldn't find program: 'bash'\n"
     ]
    }
   ],
   "source": [
    "%%bash\n",
    "head GCA_000741095.1_Bifact_feature_table.txt"
   ]
  },
  {
   "cell_type": "markdown",
   "metadata": {},
   "source": [
    "Ce fichier contient les emplacements dans le génome où on peut retrouver certains éléménts.\n",
    "\n",
    "Une opération courante est de lire les tableaux contenant des informations rangées par colonnes.\n",
    "\n",
    "Une façon simple de lire ces fichiers est montrée dans le script suivant.\n"
   ]
  },
  {
   "cell_type": "code",
   "execution_count": 36,
   "metadata": {},
   "outputs": [
    {
     "output_type": "execute_result",
     "data": {
      "text/plain": [
       "['gene', 'protein_coding', 'GCA_000741095.1', 'Primary Assembly']"
      ]
     },
     "metadata": {},
     "execution_count": 36
    }
   ],
   "source": [
    "line = \"gene\\tprotein_coding\\tGCA_000741095.1\\tPrimary Assembly\\n\"\n",
    "line.strip().split(\"\\t\")"
   ]
  },
  {
   "cell_type": "code",
   "execution_count": 37,
   "metadata": {},
   "outputs": [
    {
     "output_type": "stream",
     "name": "stdout",
     "text": [
      "# feature\ngene\nCDS\ngene\nCDS\ngene\nCDS\ngene\nCDS\ngene\n"
     ]
    }
   ],
   "source": [
    "line_count = 0\n",
    "with open('GCA_000741095.1_Bifact_feature_table.txt') as file:\n",
    "    for line in file:\n",
    "        cells = line.strip().split(\"\\t\")\n",
    "        print(cells[0])\n",
    "        line_count += 1\n",
    "        if line_count == 10:\n",
    "            break"
   ]
  },
  {
   "cell_type": "markdown",
   "metadata": {},
   "source": [
    "Dans la première ligne nous déclarons un compteur (on veux pas imprimer toutes les lignes)\n",
    "Ensuite nous itérons sur chaque ligne du fichier ``\"GCA_000741095.1_Bifact_feature_table.txt\"``\n",
    "line étant un objet de type ``str`` nous permet d'utiliser ces méthodes, dans cet exemple nous utilisons ``strip()`` pour enlever les espaces et fin de lignes au deux extremités de la ligne et puis la function ``split`` avec le caractère tabulation comme paramètre, la fonction `split` nous permet de créer une liste des éléménts qui sont séparés par une tabulation dans la variable ligne."
   ]
  },
  {
   "cell_type": "markdown",
   "metadata": {},
   "source": [
    "La compréhension de listes peut également être utilisée pour parser des fichiers.\n",
    "Par exemple si on voudrais créer une liste d'entiers avec les positions du début de chaque feature."
   ]
  },
  {
   "cell_type": "code",
   "execution_count": 38,
   "metadata": {},
   "outputs": [
    {
     "output_type": "execute_result",
     "data": {
      "text/plain": [
       "[1, 1378, 1378, 2490]"
      ]
     },
     "metadata": {},
     "execution_count": 38
    }
   ],
   "source": [
    "with open(\"GCA_000741095.1_Bifact_feature_table.txt\") as file:\n",
    "    start_pos = [int(line.strip().split(\"\\t\")[7]) for line in file if not line.startswith(\"#\")]\n",
    "\n",
    "start_pos[1:5]"
   ]
  },
  {
   "cell_type": "markdown",
   "metadata": {},
   "source": [
    "Un des avantages des comprehension de listes c'est que nous pouvons faire appele aux functions pour transformer les éléments de la liste. \n",
    "Dans l'example anterieur on applique le méthode magique int (mais ça pourrais être une autre function) pour transforme du type chaine de character à entier."
   ]
  },
  {
   "cell_type": "markdown",
   "metadata": {},
   "source": [
    "\n",
    "\n",
    "## Quelques exercices d'applications \n",
    "\n",
    "\n",
    "### Exercice 1\n",
    "Imprimer la taille moyene des features (colonne end-start)"
   ]
  },
  {
   "cell_type": "code",
   "execution_count": 39,
   "metadata": {
    "scrolled": false
   },
   "outputs": [
    {
     "output_type": "execute_result",
     "data": {
      "text/plain": [
       "1034.8577460214356"
      ]
     },
     "metadata": {},
     "execution_count": 39
    }
   ],
   "source": [
    "with open(\"GCA_000741095.1_Bifact_feature_table.txt\") as file:\n",
    "    length = [int(line.strip().split(\"\\t\")[8]) - int(line.strip().split(\"\\t\")[7]) for line in file if not line.startswith(\"#\")]\n",
    "    moyenne = sum(length) / len(length)\n",
    "\n",
    "moyenne"
   ]
  },
  {
   "cell_type": "markdown",
   "metadata": {},
   "source": [
    "### Exercice 2\n",
    "Ecrire les deux premières colonnes `'feature'` et `'assembly'` dans un nouveau fichier nommé GCA_000741095.1_Bifact_feature_table.filtered.txt"
   ]
  },
  {
   "cell_type": "code",
   "execution_count": 22,
   "metadata": {},
   "outputs": [],
   "source": [
    "fichier = open(\"GCA_000741095.1_Bifact_feature_table.filtered.txt\", \"w\")\n",
    "with open(\"GCA_000741095.1_Bifact_feature_table.txt\") as file:\n",
    "    feature = [line.strip().split(\"\\t\")[0] for line in file if not line.startswith(\"#\")]\n",
    "with open(\"GCA_000741095.1_Bifact_feature_table.txt\") as file:\n",
    "    assembly = [line.strip().split(\"\\t\")[2] for line in file if not line.startswith(\"#\")]\n",
    "    fichier.write(\"feature \\t assembly\\n\")\n",
    "    i = 0\n",
    "    while i < len(feature) - 1:\n",
    "        fichier.write(\"{} \\t {}\\n\".format(feature[i], assembly[i]))\n",
    "        i+=1\n",
    "    "
   ]
  },
  {
   "cell_type": "markdown",
   "metadata": {},
   "source": [
    "Nous pouvons utiliser la commande `head` pour voir que tout a marché."
   ]
  },
  {
   "cell_type": "code",
   "execution_count": 17,
   "metadata": {},
   "outputs": [
    {
     "output_type": "stream",
     "name": "stdout",
     "text": [
      "Couldn't find program: 'bash'\n"
     ]
    }
   ],
   "source": [
    "%%bash\n",
    "head GCA_000741095.1_Bifact_feature_table.filtered.txt"
   ]
  },
  {
   "cell_type": "markdown",
   "metadata": {},
   "source": [
    "### Exercice 3\n",
    "Ecrire les deux premières colonnes uniquement  quand la colonne feature est égale à 'CDS'  "
   ]
  },
  {
   "cell_type": "code",
   "execution_count": 24,
   "metadata": {},
   "outputs": [],
   "source": [
    "fichier = open(\"GCA_000741095.1_Bifact_feature_table.filtered_ex3.txt\", \"w\")\n",
    "with open(\"GCA_000741095.1_Bifact_feature_table.txt\") as file:\n",
    "    feature = [line.strip().split(\"\\t\")[0] for line in file if not line.startswith(\"#\") and line.startswith(\"CDS\")]\n",
    "with open(\"GCA_000741095.1_Bifact_feature_table.txt\") as file:\n",
    "    assembly = [line.strip().split(\"\\t\")[1] for line in file if not line.startswith(\"#\") and line.startswith(\"CDS\")]\n",
    "    fichier.write(\"feature \\t class\\n\")\n",
    "    i = 0\n",
    "    while i < len(feature) - 1:\n",
    "        fichier.write(\"{} \\t {}\\n\".format(feature[i], assembly[i]))\n",
    "        i+=1"
   ]
  },
  {
   "cell_type": "markdown",
   "metadata": {},
   "source": [
    "Nous pouvons également utiliser la commande ``cut`` qui nous permet d'extraire des colonnes d'un fichier d'origine sans manipulation. \n",
    "\n",
    "**Tip**. Il existe d'autre commandes telles que ``awk`` qui nous permettent d'effectuer des manipulations plus complexes sur les fichiers."
   ]
  },
  {
   "cell_type": "code",
   "execution_count": null,
   "metadata": {},
   "outputs": [],
   "source": [
    "%%bash\n",
    "cut -f1,3 GCA_000741095.1_Bifact_feature_table.txt > GCA_000741095.1_Bifact_feature_table.filtered_cut.txt"
   ]
  },
  {
   "cell_type": "markdown",
   "metadata": {},
   "source": [
    "Une autre opération qui est assez récurrente c'est la lecture des fichiers fastas.\n",
    "\n",
    "Voici une implémentation très simple qui nous permet de lire jusqu'à 5 séquences d'ADN et les imprimer sur l'écran précédées par leur identifiant."
   ]
  },
  {
   "cell_type": "code",
   "execution_count": 25,
   "metadata": {},
   "outputs": [
    {
     "output_type": "stream",
     "name": "stdout",
     "text": [
      "lcl|JGYK01000001.1_cds_KFI39626.1_1 [locus_tag=BACT_0326] [db_xref=GO:0000079,GO:0005515,GO,GO:0005829,GO,GO:0019221,GO,GO:0032020,GO,GO:0032480,GO,GO:0042296,GO,GO:0045087,GO,GO:0050688,GO] [protein=regulator of chromosome condensation RCC1] [protein_id=KFI39626.1] [location=complement(<1..594)] [gbkey=CDS] ATGGCCACGCTGACACCGCCAGCCCCACCAACCAACGTGCGCTTCACCCGAATCAGCGCAGGCGACAATCACAGCCTGGCCCTCGACTCGAACGGCAACACCTACGCCTGGGGACAGAACTACTACGGCAAGCTGGGCGACGGCACCACCATAACCCAGCGAAACCAGCCCGTACGCGTGCACGCGCCAGCCGGCGTGACCTTCACCCAAATCAGCGCAGGCTGGGGGCACAGCATGGCCATCGGATCGGACAACTACACCTATGCATGGGGTTACAACAATGAAGGCGAACTGGGCGACGGCACCCCCAACCTACGCAGCACGCCCGTGCGCGTGAGCACGCCAGCCGGCGTGCGCTTCACCCGAATCAGCGCAGGCTACTGGCACAGCCTGGCCATCGGCTCAGACGGCAACACCTACACATACGGCAGCGCTTACGCATGGGGAAATAACAGCGAAGGCGAGCTGGGCCATGGCACCGGCGGCAACCAACACACGCCCGCACCGGTGAGCACGCCCTCCAGTGGCAACCCCACGAACACCTGGAAAACCATCAGCGCAGGCAACAGTCACAGCCTGGCCCTCGACTCGGAC\nlcl|JGYK01000001.1_cds_KFI39627.1_2 [locus_tag=BACT_0327] [protein=auxin efflux carrier family transporter] [protein_id=KFI39627.1] [location=1378..2382] [gbkey=CDS] ATGAGGATCCTGATTCAACCGGCGACGCTGCTGGGGATTATCCTGGCTGGCTACCTCTTCAAACGCTTAAGGCTCTTCCGCGAGCGCGACTACCGAGTCCTCCAGACCGCCGAATTCAATCTGATCCTGCCTGGAGCCATCATCTACTCATTTGCCACCAACCCCCACCAGGTGAGCTTCCTGCTGCTGTCCGCCTTCGCCGTGCTGGCCGCGCTGCTGCCGCCGCTGGGCGTCTACCTGACCACCCGGCGTACGCCCGCGGACCGGCGCGCCTTCCTGATGCTCAACACCTCCGGCTTCAACATCGGCTGCTTCTGCTTTCCGCTCCTGCAAACACTGATAGGCTCGGCGGCCTTGGTGCCCGCTGCCATGTTCGACCTGGGCAACGACGTGATGGTGGCGGCAGGCACTTCGGTCATGACCCAATCGCTCCTGCACATCGAGCCCGGCAGGCCGCTGTCCGAGCAAGGGGAGGTGGACGCGCCGGTCATGCCCAGGCCGCGCTCGGACGACCCGGACGTCCGGCGGCTGCGGCGCAAGGCCCTGCTGGTCGGCATTGGTAAGGGGTTCTTCGGTTCGGTCTGCTTCGATGTGTACCTGCTGATGGCGTTGATGATGCTGCTGGGTCTGAACCTGCCTAGCTGGGTGGCGCAGGTGACGCAGCCCTTTTCCGGGGCGAACGCGCTGGTCTCCATGCTGATGGTGGGGATGCTGATGGAACTGCCGGACGGACGCGGTGACATCAAAGCCGTGGGGCAGGTGCTGGCCTGGCGGCTGCCCTTGGGGCTGATCTTCGCCGTGGCCGCATGGTTCCTGCTGCCTTTCGACCCGGTGGTGCGCGAGGCCATCGCCCTGTGCTGCTTGTCTCCCACCGCCATTTTCGCCACCATGTTCACCGATAAGGTGCTGGGCAACGCCCGCCTGGCCGGCTTCACCCTGGCCCTCACCGCTGTAATCAGCACCGTCGCTATGGTCGGCGCGCACCTGTTGACCGCGGCCCTGTAA\nlcl|JGYK01000001.1_cds_KFI39628.1_3 [locus_tag=BACT_0328] [db_xref=GO:0034077,GO,GO:0045149,GO:0047512,GO,GO:0051289,GO,GO:0070403,GO,GO:0070404,GO] [protein=L-2,3-butanediol dehydrogenase/acetoin reductase] [protein_id=KFI39628.1] [location=complement(2490..3275)] [gbkey=CDS] ATGTCAGAGCCAAAAGTAGCTGTAGTGACCGGCGCAGCCCGAGGAATCGGCCGTAGCATCGCCATCCAGCTTGCCAAGGACGGGTTCGACGTAGCCGTCGCCGACCTCAAGCAGCAAGAGCAGACCGCCCAGGAGACGATCGCCGCGATCGAAGCGGAGGGTCGCAAGACCTTCTTCCGGGCGACTGACGTGTCCAAGCGCGACGAGGTCTTCGGCCTGGTCGACGATGCCGCGGACCAGCTGGGCGGCTTCGACGTGATGGTCAACAACGCGGGCATCTGCCAGGTCACCCCCTTCACCGAAATCACCACCGAGCAGCTAGAGGCTATGGCGCGCGTTGACATCTTCAGCGTCGTCTACGGCATCCAGGCGGCTGCGGCCAAGTTCGAGGAACTGGGCAAGAAGCACGGCCGCATCATCTCCGCCTCCTCCATTGCTGGCTTCGAGGGCTTCCCGATTCTCGGCGCCTACTCCGGGGCAAAGTTCGCGGTGCGCGGCCTGACCCAGACCGCCGCCCAGGAGCTAGCGCCCAGGGGTATCACCGTCAACGGCTACGCCCCCGGCGTGGTCGATACACCCATGTGGGGCCAAATCGACGAGGAGATGGGCAAGCTGAACGGCAAGCCCAAGGGCGAGAACTTGAAAGGCATGGTGGATTCAATCGCCATGCAGCGCCTGGAGCACCCCGACGACGTGGCTGGCGTGATCTCCTTCCTGGCCAGCGATAAGTCCGCTTACATGACTGGTCAGACCATCATCGTAGACGGCGGCATGCAGTACCGCTGA\nlcl|JGYK01000001.1_cds_KFI39629.1_4 [locus_tag=BACT_0329] [db_xref=GO:0015207,GO,GO:0015295,GO,GO:0015853,GO,GO:0015992] [protein=xanthine/uracil permease family protein] [protein_id=KFI39629.1] [location=3531..4931] [gbkey=CDS] ATGCACGAGCTGTTCAGGCTCAAAGAGAATGATACCACAGTTTCTACAGAGGTGGTAGCCGGCATCACCACCTTCTTCGCGATGGCGTACATCATCGCGGTCAACCCCTCGGTCCTGTCCACGGCGGGGATGCCCTGGGGGGCCGTCTTCATCGCTACGATCATCGCCGCCATCATCGGCACCCTGGTCATGGGCCTGGTGGCGAACGTGCCCTACGGCGTGGCTCCGGGGGTCGGGCTCTGCGCCTTCTTCACCTTCACCGTGGTCAAGGGGCTGGGCTTCAGCTGGCAGGAGACCCTGTCGATGGTCTTCATCTGCGGCGTGCTGAACATAATCGTCACCGTCACCAAGCTGCGCAAGATGATTATTCGCGCGATTCCGCCCGTCCTCCAACACGCGATCGGCGGCGGCATTGGCGTGTTCATCGCTTACGTAGGCCTGCTCAACGTTGGCATCATCAAGTTCAGCCCTGACAAGTCCTCCGCGGCCGGCGCCAACCCCAGCCTGGCCACCTTCAACACGCCCTCGGCGATCCTATTCGTCATCGGTCTGGTGCTGACGATCGTCCTGATGGTCTGCAAGTTCAAGGGCCGCTGGGCTTTTCTCAACAAGGCCTCTTTCGTCATCGCCATCATCGTGGTCACCCTGATCGGCATCCCCATGGGGGTGACGACCGCCGCCCGCTCGGTCAACCTCGGTCAGGCCTCCTCCCAGCTGCCGCAGACCTTCCTGGCCATCTTCACTCCCGCCGGATTCCCAGCCCTCTTCTCCGACCCGGCCAAACTGCCGATCGTGTTGGTCACCATCTTCGCCTTCTCCCTGTCCGACACCTTCGACACAATCGGCACCTTCGTGGGCACCGGCCGCCGTTCGGGCATCTTCTCCGAGGCGGACGAGCGGTCCTTGGAGTCCGGCCATGGCTTCTCCTCCAAGATGGACAAGGCCCTGTTCGCGGACGCCACGGCCACCTCGATCGGCTCCCTCTTCGGCACCTCGAACACCACCACTTACGTGGAGTCCGCATCGGGCATAGCCGCAGGCGGGCGCACGGGCCTGACCTCGGTGGTCATCGCGGCCTGCTTCGCCCTGTCCGCCCTGTTCGCTCCGCTCGTCTCCGCGGTGCCCTCGGCAGCGACCGCCCCCGTCCTGGTCATCGTAGGATGCATGATGATGTCCACGTTCGGCGAGATTGACTGGACCGACCTGTCCGAGGCCATCCCCGCCTTCTTCTCCGCCATCTTCATGGGCTACTCCTACTCGATCTCCTACGGTGTGGCCGCTGGCTTCATCACCTACTGCCTGACCATGACCTGCAAGGGTAAGGCCAAGCAAGTCCATCCGATCATCTGGGGCGTAGGCGCCCTGTTCATACTGGACTTCGTCCTCCAAGCCATCTTCTAA\nlcl|JGYK01000001.1_cds_KFI39630.1_5 [locus_tag=BACT_0330] [protein=putative secreted protein] [protein_id=KFI39630.1] [location=complement(5335..6345)] [gbkey=CDS] ATGGCGTCGCATCGCAAGAAGCGAACGGCAGGGCTGAAAGCGCTGACCAAACGTCAGTGGATGCGGGTCATCGCGGGGTGCTCCGCGGTGGTCATGCTGGTTGGCATCGGCATCGCCACGACTACTTTCCACCAGTCCCAGAACCGGGCACCCAATCCCGGCGCGACCGCCTTCTCCGCGACCGAGAACGGGTCAGCAGAGGTTTCGCGTGATAATGTGCGCAAGGCTCTCAACCGTGGGAGCGGCGGTTCCGACTCCGGCACTTCCTACGTGAGCGTGAAGATCAACGGGGTCAAGCGGGTCATCCTGGGCGACCACTTCACCACGGTCAAGTCGGTGCTGGACGCCGGCGACATCACACTGGATCCTGGCGACCAGGTCACCCCCTCCTTGCAGACGAAGGTGAACGAGTCCACGACCATCGAGATCGAGCGCGCTGACGCTTCGGTCAAGAGCGAAGACTCCGCCATCCCCTTCAACACGATCGAGGAGAGGACCGACTCCCTGCCCGCTGGCACCCGCAAGGTCAAGACCGAGGGCCAGAACGGCGTCATGGAGACGACCTCCCTGATCACCAAGGCAGGCAGCAAGAGCCTTTCCTCGAACATCTTCGCTTCCTTCGTCAAGCAGGCCCCGGTCGATAAGGTCATCCTGGTCGGCACCGGCAGCGGCTCGGCAAGCGCCCCAAGCGCTTCGGCTGGGTCCTCCACCACAGCTCCGGTCGGTGATTCCCAGGCGCTGGCGCACGGGCTGGTCCTCTCCCGCGGCTGGGGCGAGGGAGAGTTCACCTGCCTGGTGCAGCTGTGGAACAAGGAGTCCGGCTGGCGCACGAACGCCGCTAACCCCTCGGGCGCTTACGGCATCCCCCAGGCCCTGCCTGGCTCGAAGATGGGCCCAGGCTGGGAGAGCGACGCCAACGTGCAGATCAACTGGGGTCTGGGCTACATCGCCAGCCGCTACGGCACCCCCTGCGGCGCCTGGGCTAAGTCCCAAGCCTCCGGCTGGTACTAA\n"
     ]
    }
   ],
   "source": [
    "count_seq = 0\n",
    "seq       = \"\"\n",
    "seq_id    = \"\"\n",
    "with open(\"GCA_000741095.1_Bifact_cds_from_genomic.fna\") as fasta:\n",
    "    while True:\n",
    "        line  = fasta.readline()\n",
    "        if not line:\n",
    "            print(seq_id,seq)\n",
    "            break\n",
    "        if line[0] == \">\":\n",
    "            if seq != \"\":\n",
    "                print(seq_id,seq)\n",
    "            if count_seq == 5:\n",
    "                break\n",
    "            count_seq += 1\n",
    "            seq_id  = line[1:].strip()\n",
    "            seq = \"\"\n",
    "        else:\n",
    "            seq = \"\".join((seq, line.strip() ))"
   ]
  },
  {
   "cell_type": "markdown",
   "metadata": {},
   "source": [
    "### Exercice 4\n",
    "Ecrire un nouveau fichier fasta avec les séquences en minuscules et sans les trois premiers et ni les trois derniers nucléotides "
   ]
  },
  {
   "cell_type": "code",
   "execution_count": 40,
   "metadata": {},
   "outputs": [],
   "source": [
    "fasta_res = open(\"GCA_000741095.1_Bifact_cds_from_genomic_res.fna\", \"w\")\n",
    "count_seq = 0\n",
    "seq       = \"\"\n",
    "seq_id    = \"\"\n",
    "with open(\"GCA_000741095.1_Bifact_cds_from_genomic.fna\") as fasta:\n",
    "    while True:\n",
    "        line  = fasta.readline()\n",
    "        if not line:\n",
    "            fasta_res.write(\"{}\\n{}\".format(seq_id,seq))\n",
    "            break\n",
    "        if line[0] == \">\":\n",
    "            if seq != \"\":\n",
    "                fasta_res.write(\"\\n{}\\n{}\".format(seq_id,seq))\n",
    "            count_seq += 1\n",
    "            seq_id  = line[1:].strip()\n",
    "            seq = \"\"\n",
    "        else:\n",
    "            seq = \"\".join((seq, line[3:len(line) - 4].strip().lower()))"
   ]
  },
  {
   "cell_type": "markdown",
   "metadata": {},
   "source": [
    "### Exercice 5\n",
    "Ecrivez un script pour écrire dans un fichier le pourcentage en GC du reverse complément des séquences d'un fichier fasta."
   ]
  },
  {
   "cell_type": "code",
   "execution_count": null,
   "metadata": {},
   "outputs": [],
   "source": [
    "%%bash\n",
    "count -f1,3 GCA_000741095.1_Bifact_feature_table.txt \"GC\""
   ]
  },
  {
   "cell_type": "markdown",
   "metadata": {},
   "source": [
    "### Exercice 6\n",
    "Ecrivez un script pour créer un dictionaire qui contiendrait comme clés les identifiants des séquences et comme valeurs une liste contenant deux éléments: \n",
    "   1. le pourcentage de GC, \n",
    "   2. la longeur de la séquence. \n",
    "   \n",
    "Ecrivez les résultats dans un fichier séparé par tabulation (tsv)"
   ]
  },
  {
   "cell_type": "code",
   "execution_count": null,
   "metadata": {},
   "outputs": [],
   "source": []
  }
 ],
 "metadata": {
  "@webio": {
   "lastCommId": "9de106da424e421280142cb852e0eb17",
   "lastKernelId": "4a04db57-5978-4ca9-abfb-15d783310eb9"
  },
  "kernelspec": {
   "name": "python3",
   "display_name": "Python 3.9.1 64-bit",
   "metadata": {
    "interpreter": {
     "hash": "a424d5c3877e36231b1e18090a8e292eb260ce50c4d43e2ccc28b420eaec09aa"
    }
   }
  },
  "language_info": {
   "codemirror_mode": {
    "name": "ipython",
    "version": 3
   },
   "file_extension": ".py",
   "mimetype": "text/x-python",
   "name": "python",
   "nbconvert_exporter": "python",
   "pygments_lexer": "ipython3",
   "version": "3.9.1-final"
  }
 },
 "nbformat": 4,
 "nbformat_minor": 2
}