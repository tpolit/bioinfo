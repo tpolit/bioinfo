{
 "cells": [
  {
   "cell_type": "markdown",
   "metadata": {},
   "source": [
    "# TME 4 : Mini-projet Detection de motifs\n",
    "\n",
    "Nous allons développer des algorithmes pour chercher de motifs dans les données de ChipSeq de C. glabrata.\n",
    "Pour commencer nous allons d'abord produire des données artificielles qui nous permettront de tester rapidement nos algorithmes. Ensuite nous allons chercher les motifs dans C. glabrata et analyser les résultats.\n",
    "\n",
    "## Partie A : Recherche de pattern (motifs) identiques\n"
   ]
  },
  {
   "cell_type": "markdown",
   "metadata": {},
   "source": [
    "1\\. Faites une fonction pour générer aléatoirement des séquences artificielles, puis générer 10 séquences de 41 nucléotides chacune. Toutes les lettres peuvent être équiprobables pour la génération des séquences."
   ]
  },
  {
   "cell_type": "code",
   "execution_count": 7,
   "metadata": {},
   "outputs": [
    {
     "output_type": "stream",
     "name": "stdout",
     "text": [
      "['GTGACGTGTTACGATTTCTTTTGTTAGGCCTCACACCCGCG', 'TTCGGCTGCGTTAAATAGGATCATATGATCCCGTAGTGGCA', 'AGGATGGGTGTCTGTGCGTTATTATATGCACAGGTGGACGG', 'CTTCTGGTACTACGAGTTCGATCTCAAATATTCCAACTTTC', 'CATAGAGCAAATTCTCGAGATCACACTTTTAAGCTTAAATT', 'AATGCTTTCACCATTAAAACATTATGGTGGTATGGATTATG', 'CCTAGAAAAGTATTCGATATTGTAACCGTTACACTAACTGA', 'AGAATCGAGCTGTCTATGGATTCTAGGTTTCAAAGCAGTCC', 'TAGGTTTAAATCGCGCATGTTAAGGGGTCAGCAACTATCGG', 'TGGTCCAATCCCGTTTAATGCTAACTTTCCAACTTCACTGA']\n"
     ]
    }
   ],
   "source": [
    "import random\n",
    "\n",
    "nuc = ('A', 'C', 'G', 'T')\n",
    "\n",
    "t=10 #nombre de sequences\n",
    "n=41 #longueur des sequences\n",
    "\n",
    "\n",
    "\n",
    "def generateRandomSequences(n, t):\n",
    "    sequences = []\n",
    "    i = 0\n",
    "    j = 0\n",
    "    while i < t:\n",
    "        seq = \"\"\n",
    "        while j < n:\n",
    "            seq = seq+nuc[random.randint(0,3)]\n",
    "            j += 1\n",
    "        sequences.append(seq)\n",
    "        i += 1\n",
    "        j = 0\n",
    "   \n",
    "    return sequences\n",
    "    \n",
    "seqs = generateRandomSequences(n, t)\n",
    "\n",
    "print (seqs)\n"
   ]
  },
  {
   "cell_type": "markdown",
   "metadata": {},
   "source": [
    "2\\. Nous allons maintenant implanter dans les séquences artificielles generés avant trois motifs (`nM`=3) de taille 9 (`k`=9) à des positions aléatoires (choisies uniformément le long de la séquence). On considère une proportion ``f``=0.9 de séquences qui possèdent le motif (attention `len(sequences)*f` doit être plus grand que `nM`)."
   ]
  },
  {
   "cell_type": "code",
   "execution_count": 8,
   "metadata": {},
   "outputs": [
    {
     "output_type": "stream",
     "name": "stdout",
     "text": [
      "[['TATATCAAA'], ['TATGCTCTA'], ['TTTTAAAAT']]\n\nModified sequences: ['GTGACGTGTTACGATTTCTTTTTATATCAAATTAGGCCTCACACCCGCG', 'TTCGGCTGCGTTATTTTAAAATATAGGATCATATGATCCCGTAGTGGCA', 'AGGATGGGTGTCTGTGCGTTATTATATATATCAAAGCACAGGTGGACGG', 'CTTCTGGTACTACGAGTTCGATCTCATATGCTCTAATATTCCAACTTTC', 'CATAGAGCAAATTCTCGAGATCACACTTTTAAGCTTATATCAAAAAATT', 'AATGTATATCAAATTTCACCATTAAAACATTATGGTGGTATGGATTATG', 'CCTAGAAAAGTATTCGATATATATCAAATGTAACCGTTACACTAACTGA', 'AGAATCGAGCTGTCTATGGATTATATCAAACTAGGTTTCAAAGCAGTCC', 'TAGGTTTAAATCGCTTTTAAAATCATGTTAAGGGGTCAGCAACTATCGG', 'TGGTCCAATCCCGTTTAATGCTAACTTATGCTCTATCCAACTTCACTGA']\n"
     ]
    }
   ],
   "source": [
    "# nombre de motifs nM = 3 \n",
    "nM = 3 \n",
    "# taille des motifs k = 9\n",
    "k = 9 \n",
    "# frequences des motifs f = .9 \n",
    "f = .9 \n",
    "\n",
    "import random\n",
    "\n",
    "# Generate motifs\n",
    "def generateMotifs(k, nM):\n",
    "    return [generateRandomSequences(k, True) for rs in range(nM)]\n",
    "\n",
    "motifs = generateMotifs(k, nM) \n",
    "print (motifs)\n",
    "\n",
    "def implantMotifs(motifs, f, sequences):\n",
    "    modified_sequences = []\n",
    "    for seq in sequences :\n",
    "        finalstring=seq\n",
    "        if(random.random()<f):\n",
    "            motif = random.choice(motifs)\n",
    "            rand_pos = random.randint(0,len(seq))\n",
    "            finalstring = finalstring[0:rand_pos] + motif[0] + finalstring[rand_pos+1:len(seq)]\n",
    "        modified_sequences.append(finalstring)\n",
    "    return modified_sequences\n",
    "\n",
    "motif_implanted_seqs = implantMotifs(motifs, f, seqs)\n",
    "print (\"\\nModified sequences:\", motif_implanted_seqs)"
   ]
  },
  {
   "cell_type": "markdown",
   "metadata": {},
   "source": [
    "3\\. Faites une fonction pour chercher les $m$ motifs de taille $k$ les plus fréquents dans l'ensemble des séquences. Tester cette fonction sur l'ensemble des séquences avec le motif implanté génèré dans la question précédente. Faite aussi une fonction qu'affiche les N motifis les plus fréquents. "
   ]
  },
  {
   "cell_type": "code",
   "execution_count": 9,
   "metadata": {},
   "outputs": [
    {
     "output_type": "stream",
     "name": "stdout",
     "text": [
      "0.0\nTATATCAAA\nTTATATCAA\nATATCAAAT\n"
     ]
    }
   ],
   "source": [
    "import time\n",
    "def searchMotifs(k, m, sequences):\n",
    "    motifs  = {} #key = motif; value=nombre d'occurrence\n",
    "    for seq in sequences:\n",
    "        i = 0\n",
    "        while (i + k) < len(seq):\n",
    "            new_motif = seq[i:i+k]\n",
    "            temoin = False #savoir si le motif est deja dans le dict ou pas\n",
    "            if new_motif in motifs:\n",
    "                motifs[new_motif] += 1\n",
    "            else:\n",
    "                motifs.update({new_motif : 1})\n",
    "            i += 1\n",
    "    \n",
    "    #motifs plus frequents que le seuil f\n",
    "    motifsfreq = {}\n",
    "    for motif, valeur in motifs.items():\n",
    "        if valeur >= m:\n",
    "            motifsfreq.update({motif : valeur})\n",
    "            \n",
    "    return motifs\n",
    "\n",
    "def printTopFMotifsFreq(motifs, n):\n",
    "\n",
    "    motifsSort = sorted(motifs, reverse=True, key=motifs.get)\n",
    "    i = 0\n",
    "    while (i < n):\n",
    "        print(motifsSort[i])\n",
    "        i = i + 1\n",
    "        \n",
    "\n",
    "start = time.time()\n",
    "motifsFound = searchMotifs(9, 2, motif_implanted_seqs)\n",
    "end = time.time()\n",
    "print(end-start)\n",
    "printTopFMotifsFreq(motifsFound, 3)\n"
   ]
  },
  {
   "cell_type": "markdown",
   "metadata": {},
   "source": [
    "4\\. Quell est la complexité de votre algorithme?"
   ]
  },
  {
   "cell_type": "markdown",
   "metadata": {},
   "source": [
    "<font color='white'>\n",
    "reponse : O(m * (len(seq) - k) * len(liste_seq))\n",
    "</font>"
   ]
  },
  {
   "cell_type": "markdown",
   "metadata": {},
   "source": [
    "5\\. Certains motifs sont reverse complémentaires. Implanter des motifs reverse complémentaires dans les séquences déjà générés et en suite chercher ces motifs. Attention: vous devez réutiliser les fonctions développés précédemment, pas besoin de définir des nouvelles fonctions. "
   ]
  },
  {
   "cell_type": "code",
   "execution_count": 10,
   "metadata": {},
   "outputs": [
    {
     "output_type": "stream",
     "name": "stdout",
     "text": [
      "Normal :\nTATATCAAA\nTTATATCAA\nATATCAAAT\n\nRevComp :\nTATGCTCTA\nATATGCTCT\nTATATGCTC\n"
     ]
    }
   ],
   "source": [
    "def reversecompl(seq):\n",
    "    \"\"\"Renvoie le brin complémentaire d’une séquence.\"\"\"\n",
    "    compl = {'A': 'T', 'C': 'G', 'G': 'C', 'T':'A'}\n",
    "    rev_comp_seq = []\n",
    "    for a in seq:\n",
    "        rev_comp_seq += compl.get(a)\n",
    "    return \"\".join(reversed(rev_comp_seq))\n",
    "\n",
    "motifs_revComp = []\n",
    "for motif in motifs:\n",
    "    motifs_revComp.append([reversecompl(motif[0])])\n",
    "\n",
    "motif_revComp_implanted_seqs = implantMotifs(motifs_revComp, f, seqs)\n",
    "motif_revCompFound = searchMotifs(9, 2, motif_revComp_implanted_seqs)\n",
    "\n",
    "motifs_Found_revcomp = {}\n",
    "for motif, value in motif_revCompFound.items():\n",
    "    motifs_Found_revcomp.update({reversecompl(motif) : value})\n",
    "\n",
    "print(\"Normal :\")\n",
    "printTopFMotifsFreq(motifsFound, 3)\n",
    "print(\"\\nRevComp :\")\n",
    "printTopFMotifsFreq(motifs_Found_revcomp, 3)\n",
    "\n",
    "\n",
    "\n",
    "\n"
   ]
  },
  {
   "cell_type": "markdown",
   "metadata": {},
   "source": [
    "\n",
    "## Partie B : Recherche de motifs identiques sur vos données"
   ]
  },
  {
   "cell_type": "markdown",
   "metadata": {},
   "source": [
    "1\\. Le fichier \"C_glabrata_1000bp_only.fasta\" contiens les séquences régulatrices pour tous les gènes de C. glabrata. Nous avons pris les 1000bp en amont du codon start. Chercher les 50 motifs de taille 7 les plus fréquents dans les deux brim de votre génome. Measurer le temps de calcule de chaque operation."
   ]
  },
  {
   "cell_type": "code",
   "execution_count": 11,
   "metadata": {
    "tags": []
   },
   "outputs": [
    {
     "output_type": "stream",
     "name": "stdout",
     "text": [
      "durée exec 1er brin = 1.781813144683838\n",
      "durée exec 2e brin = 1.671292781829834\n",
      "\n",
      "motifs brin 1 :\n",
      "AAAAAAA\n",
      "TTTTTTT\n",
      "ATATATA\n",
      "\n",
      "motifs brin 2 :\n",
      "TTTTTTT\n",
      "AAAAAAA\n",
      "TATATAT\n"
     ]
    }
   ],
   "source": [
    "import time\n",
    "\n",
    "k=7\n",
    "feq=10\n",
    "top= 3\n",
    "genome = \"C_glabrata_1000bp_only.fasta\"\n",
    "\n",
    "def readFasta(genome):\n",
    "    sequence = []\n",
    "    file = open(genome, \"r\")\n",
    "    sequence = []\n",
    "    for s in file:\n",
    "        if s[0] != \">\":\n",
    "            sequence.append(s.strip().upper())\n",
    "    return sequence\n",
    "\n",
    "sequence = readFasta(genome)\n",
    "\n",
    "start = time.time()\n",
    "motifs_Seq_brin1 = searchMotifs(k, feq, sequence)\n",
    "end = time.time()\n",
    "print(\"durée exec 1er brin = {}\".format(end - start))\n",
    "\n",
    "\n",
    "reverse_sequence = []\n",
    "for seq in sequence:\n",
    "    reverse_sequence.append(reversecompl(seq))\n",
    "\n",
    "start = time.time()\n",
    "motifs_Seq_brin2 = searchMotifs(k, feq, reverse_sequence)\n",
    "end = time.time()\n",
    "print(\"durée exec 2e brin = {}\".format(end - start))\n",
    "\n",
    "print(\"\\nmotifs brin 1 :\")\n",
    "printTopFMotifsFreq(motifs_Seq_brin1, 3)\n",
    "print(\"\\nmotifs brin 2 :\")\n",
    "printTopFMotifsFreq(motifs_Seq_brin2, 3)\n",
    "\n"
   ]
  },
  {
   "cell_type": "markdown",
   "metadata": {},
   "source": [
    "2\\. Quel sont les trois motifs de taille 7 les plus frequents? Pensez vous que ces motifs correspondent à de facteur de transcription connus? Justifier votre reponse."
   ]
  },
  {
   "cell_type": "markdown",
   "metadata": {},
   "source": [
    "<font color='white'>\n",
    "Reponse:\n",
    "Les trois motifs les plus frequents sont AAAAAAA, TTTTTTT et ATATATA. Les facteurs de transcription sont des protéines qui régulent l’expression des gènes pour cela ils se fixent dans des séquences particulières de gènes dites régulatrices dont la complexité est plus élevé que des répétitions de A ou de T ou de AT qui ne sont pas trouvées dans ce type de régions.\n",
    "    \n",
    "</font>"
   ]
  },
  {
   "cell_type": "markdown",
   "metadata": {},
   "source": [
    "3\\. Le motif TGATTCAT correspond au facteur de transcription Gcn4 qui est trés souvent trouvé dans le genome de levures. Est-ce que vous avez trouvé ce motif? Si oui avec quel frequence?"
   ]
  },
  {
   "cell_type": "code",
   "execution_count": 12,
   "metadata": {},
   "outputs": [
    {
     "output_type": "stream",
     "name": "stdout",
     "text": [
      "nombre d'occurences de Gcn4 dans brin 1 : 591\nnombre d'occurences de Gcn4 dans brin 2 : 594\n"
     ]
    }
   ],
   "source": [
    "motifGcn4 = ['TGATTCA']\n",
    "\n",
    "# Nous l'avons trouvé avec les fréquences suivantes :\n",
    "\n",
    "if motifGcn4[0] in motifs_Seq_brin1:\n",
    "    print(\"nombre d'occurences de Gcn4 dans brin 1 :\",motifs_Seq_brin1[motifGcn4[0]])\n",
    "\n",
    "if motifGcn4[0] in motifs_Seq_brin2:\n",
    "    print(\"nombre d'occurences de Gcn4 dans brin 2 :\",motifs_Seq_brin2[motifGcn4[0]])\n",
    "\n"
   ]
  },
  {
   "cell_type": "markdown",
   "metadata": {},
   "source": [
    "4\\. Les motifs peu complexes (avec par exemple 5, 6 ou 7 fois la même lettre) sont courants dans les génomes, ils n'ont généralement pas de signification biologique. Dans le contexte de ce projet, vous pouvez eliminer aussi les motifs ayant deux lettre repetées, comme par exemple AGAGAGA. Faites une fonction pour éliminer les motifs peu complexes, _i. e._ qui ont au moins $m$ fois la même lettre ou qui ont deux lettre consecutive répétés. Dans quel position vous trouver Gcn4 apres avoir enlever les motifs peu complexes?</font>. "
   ]
  },
  {
   "cell_type": "code",
   "execution_count": 13,
   "metadata": {},
   "outputs": [
    {
     "output_type": "stream",
     "name": "stdout",
     "text": [
      "motifs brin 1 :\nGATATTT\nTCGAAAA\nCGAAAAG\n\nmotifs brin 2 :\nAGTTATT\nCGAGAAA\nACCTTTT\n"
     ]
    }
   ],
   "source": [
    "from collections import Counter\n",
    "m = 5\n",
    "\n",
    "def removeLowComplexe(motifs, minrep):\n",
    "    validMotif = {}\n",
    "    for motif, value in motifs.items():\n",
    "        frequence = Counter(motif)\n",
    "        # temoin pour savoir si une lettre est repetee ou non\n",
    "        temoin = True\n",
    "        for lettre, value in frequence.items():\n",
    "            if value >= minrep:\n",
    "                temoin = False\n",
    "        if temoin == True:\n",
    "            validMotif.update({motif : value})\n",
    "                \n",
    "    return validMotif\n",
    "\n",
    "def removeLowComplexePair(motifs):\n",
    "    validMotif = {}\n",
    "    for motif, value in motifs.items():\n",
    "       frequence = Counter(motif)\n",
    "       if len(frequence) > 2:\n",
    "           validMotif.update({motif : value})\n",
    "\n",
    "    return validMotif\n",
    "\n",
    "motifs_brin1_lowComplexe = removeLowComplexe(motifs_Seq_brin1, m)\n",
    "motifs_brin1 = removeLowComplexePair(motifs_brin1_lowComplexe)\n",
    "\n",
    "motifs_brin2_lowComplexe = removeLowComplexe(motifs_Seq_brin2, m)\n",
    "motifs_brin2 = removeLowComplexePair(motifs_brin2_lowComplexe)\n",
    "\n",
    "print(\"motifs brin 1 :\")\n",
    "printTopFMotifsFreq(motifs_brin1, 3)\n",
    "print(\"\\nmotifs brin 2 :\")\n",
    "printTopFMotifsFreq(motifs_brin2, 3)\n"
   ]
  },
  {
   "cell_type": "markdown",
   "metadata": {},
   "source": [
    "5\\. Le fichier \"Sequence_by_Peaks_*.fasta\" contiens les regions de peak trouvé par ChipSeq, qui contient probablement le Facteur de Transcription que nous cherchons. Apliquer les fonctions precedents pour chercher les 3 (ou plus) motifs les plus fréquents dans les deux brins. Il faut bien evidement enlever les motifs peu complexe."
   ]
  },
  {
   "cell_type": "code",
   "execution_count": 15,
   "metadata": {
    "tags": []
   },
   "outputs": [
    {
     "output_type": "stream",
     "name": "stdout",
     "text": [
      "0.0530085563659668\nCTGGTGTG\nAGTGTTAT\nGTACACCC\n\npeaks reversed\n\nTTACTCCC\nCTAGAGGG\nCAGAGAGG\n"
     ]
    }
   ],
   "source": [
    "#Tester plusieur valeurs de k à fin d'augmenter vos chances de trouvé le motif\n",
    "k_val=8\n",
    "feq_val=5\n",
    "top= 3\n",
    "m_val = 5\n",
    "\n",
    "sequence_peaks = readFasta(\"Sequence_by_Peaks_6.fasta\")\n",
    "motifs_chipseq = searchMotifs(k_val, feq_val, sequence_peaks)\n",
    "motifs_chipseq_lowComplexe = removeLowComplexe(motifs_chipseq, m_val)\n",
    "motifs_chipseq_removed = removeLowComplexePair(motifs_chipseq_lowComplexe)\n",
    "\n",
    "reverse_sequence_peaks = []\n",
    "for seq in sequence_peaks:\n",
    "    reverse_sequence_peaks.append(reversecompl(seq))\n",
    "start = time.time()\n",
    "motifs_chipseq_rev = searchMotifs(k_val, feq_val, reverse_sequence_peaks)\n",
    "motifs_chipseq_lowComplexe_rev = removeLowComplexe(motifs_chipseq_rev, m_val)\n",
    "motifs_chipseq_removed_rev = removeLowComplexePair(motifs_chipseq_lowComplexe_rev)\n",
    "end = time.time()\n",
    "print(end-start)\n",
    "\n",
    "printTopFMotifsFreq(motifs_chipseq_removed, top)\n",
    "print(\"\\npeaks reversed\\n\")\n",
    "printTopFMotifsFreq(motifs_chipseq_removed_rev, top)\n"
   ]
  },
  {
   "cell_type": "markdown",
   "metadata": {},
   "source": [
    "6\\. Ulitser la base YEASTRACT : http://www.yeastract.com/formsearchbydnamotif.php pour chercher les motifs. \n",
    "Avez vous une indication pour le facteur de transcription impliqué ?\n"
   ]
  },
  {
   "cell_type": "code",
   "execution_count": null,
   "metadata": {},
   "outputs": [],
   "source": []
  }
 ],
 "metadata": {
  "kernelspec": {
   "name": "python394jvsc74a57bd03729a6ff7676ad95e807d2f5f3db9a400fbe0daa61d45f8837682fe7ac233198",
   "display_name": "Python 3.9.4 64-bit"
  },
  "language_info": {
   "codemirror_mode": {
    "name": "ipython",
    "version": 3
   },
   "file_extension": ".py",
   "mimetype": "text/x-python",
   "name": "python",
   "nbconvert_exporter": "python",
   "pygments_lexer": "ipython3",
   "version": "3.9.4"
  },
  "metadata": {
   "interpreter": {
    "hash": "3729a6ff7676ad95e807d2f5f3db9a400fbe0daa61d45f8837682fe7ac233198"
   }
  }
 },
 "nbformat": 4,
 "nbformat_minor": 2
}