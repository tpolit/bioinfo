{
 "cells": [
  {
   "cell_type": "markdown",
   "metadata": {},
   "source": [
    "# TME 6 : Mini-projet Detection de motifs\n",
    "\n",
    "\n",
    "## Recheche de pattern (motifs) en utilisant les algoritmes randomisés\n",
    "\n",
    "Les algorithmes randomisés prendre des décisions aléatoire plutôt que déterministes.\n",
    "l'algorithme s'exécute différemment à chaque fois. Ils sont couramment utilisés dans situations où aucun algorithme exact et rapide est connu. Nous allons implémenter deux algorithmes randomisés pour la recherche de motifs : Greedy Profile Motif Search et random Projections.\n"
   ]
  },
  {
   "cell_type": "markdown",
   "metadata": {},
   "source": [
    "1\\. Nous allons réutiliser les fonctions du TME5 pour générer t séquences artificielles de taille n, et implanter dans chaque séquence un motif de taille k à des positions aléatoires avec v substitutions choisies aléatoirement."
   ]
  },
  {
   "cell_type": "code",
   "execution_count": 2,
   "metadata": {},
   "outputs": [],
   "source": [
    "import random\n",
    "import numpy as np\n",
    "import time\n",
    "\n",
    "nuc = ('A', 'C', 'G', 'T')\n",
    "\n",
    "k=7 #taille de motif\n",
    "v=4 #nb de positions variable dans le motif\n",
    "t=20 #nb de sequences\n",
    "n=50 #longuer des sequence\n",
    "\n",
    "def generateRandomSequences(n, t):\n",
    "    sequences = []\n",
    "    i = 0\n",
    "    j = 0\n",
    "    while i < t:\n",
    "        seq = \"\"\n",
    "        while j < n:\n",
    "            seq = seq+nuc[random.randint(0,3)]\n",
    "            j += 1\n",
    "        sequences.append(seq)\n",
    "        i += 1\n",
    "        j = 0\n",
    "   \n",
    "    return sequences\n",
    "\n",
    "# RENVOIE UNE LISTE DE LISTE DE MOTIFS...\n",
    "def generateMotifs(k, nM):\n",
    "    return [generateRandomSequences(k, True) for rs in range(nM)]\n",
    "\n",
    "def gen_n_substitMotifs(v, k, t):\n",
    "    motifs = generateMotifs(k, 1)\n",
    "    print(motifs[0])\n",
    "    motif = ''.join(motifs[0])\n",
    "    motifs = []\n",
    "    i=0\n",
    "    while i < t:\n",
    "        j = 0\n",
    "        motif_a_modif = list(motif.strip())\n",
    "        while j < v:\n",
    "            motif_a_modif[random.randint(0, k - 1)] = nuc[random.randint(0,3)]\n",
    "            motif_add = ''.join(motif_a_modif)\n",
    "            j+=1\n",
    "        motifs.append(motif_add)\n",
    "        i+=1\n",
    "    return motifs\n",
    "    \n",
    "def implantMotifVar(k, v, t, n):\n",
    "    #sequences aleatoires\n",
    "    sequences = generateRandomSequences(n, t)\n",
    "    if v != 0:\n",
    "        motifs = gen_n_substitMotifs(v, k, t)\n",
    "    else:\n",
    "        motifs_generated = generateMotifs(k, 1)\n",
    "        # il faut remettre dans une simple liste vu QUE GENERATE_MOTIFS fait une liste de LISTE\n",
    "        motifs = motifs_generated[0]\n",
    "    modified_sequences = []\n",
    "    i = 0\n",
    "    while i < t:\n",
    "        seq = sequences[i]\n",
    "        if v != 0:\n",
    "            motif = motifs[i]\n",
    "        else:\n",
    "            motif = motifs[0]\n",
    "        rand_pos = random.randint(0,len(seq))\n",
    "        seq = seq[0:rand_pos] + motif + seq[rand_pos+1:len(seq)]\n",
    "        modified_sequences.append(seq)\n",
    "        i+=1\n",
    "    return motifs, modified_sequences\n"
   ]
  },
  {
   "cell_type": "code",
   "execution_count": 3,
   "metadata": {},
   "outputs": [
    {
     "output_type": "stream",
     "name": "stdout",
     "text": [
      "['TAATGCT']\n['TAACCAT', 'TAACATG', 'TAATAAA', 'TAAGCAT', 'TGATGCT', 'TATTGCT', 'TAAAACC', 'TGCTGCA', 'AAAAGCC', 'TAATGCT', 'TCATGGC', 'TAGGGCA', 'TGATTCA', 'TTGGGCT', 'TTATCAT', 'CGATGCT', 'TAATTCC', 'TATTACG', 'TGAAGCT', 'CGTTGCT']\n20\nsequences\n['CGCGCCGTAACCATCATTCGTTAGTGCCTGGATGACCCCATATTGCCGTTCGGTAA', 'AGTCCTCCTTGCATGCAGGATGCGAGTTTTACACTGATAACATGGCGTGAGTAATA', 'TCTTGGAGCCAGACTCCCTTAAGAAACTAATAAATTGGACAGTGACATAACTCTCA', 'ATCAACGCGTCTAACAGCTGAATGATTCGACTCAGCTGGGACAAGGTGTAAGCATT', 'GATATAGGCAGCCTATGGGCAATTACCCTGATGCTGAAATGACAAGTCCACAGGTT', 'CCCACTATTGTCAGTGGGAGCGCTGTACTATCATTCCTATTCTCTTATTGCTCTGC', 'GGCTCAGTGGCGCGCTGTATCCATGGGTAAAACCGCTACGTCTCCGTGCTTATGTC', 'ACTGCTGCAAAAGTTTGTGTCAAAACCTCTAGGTGGAAACAATTACAGTACCTCAT', 'GCAGACGCGACTGTCTGTCAAAAGCCTAATAGAGACTGCCCTGAGAATATCGCGGA', 'CGTCCCTTAATGCTACGGTTTCTAGTGTGGTTCAACTCCATGGTGATCCTTTCATG', 'TGACTCATTGGTCCAGCATGTAGAGCAAAACAACATACCTTGTGCTTCATGGCGAT', 'TGCTAGGGCAAGGCCTCTAGTGGATTGCGCAAATTGCAAGTCGCGCCGCGAGACCT', 'GTAAATTCACAGAACGATTCTCGGCTGATTCACTGCCTTGTTTTCCTAGGGCACGG', 'CTTATTGATTTGGGCTGCTGCTCGACCGGCCTATGGTGCATTCAAGCTCGGGTAGG', 'TATTTTACGACGATTATCATGAGTACCTACCCCCGAACGCGCCGGGAGCGAGAATT', 'AATCCGTTTGTTGTCGGACCACAGTTGTACGATGCTGCCTGGTGCGGTCCAATTGT', 'TGGGTTTTTTGGGGCAAGAACGGATCCTGTTATAATTCCAGTGGATCGGGTTCATT', 'CTCGATTGTCTTCGCAGCTAAATATTACGTTCGGAAACATCTTGGAGGCTTATAGT', 'TCAAGGTACCCTGCATTAGGTGAAGCTCCAGTTGTATTCCAGCGTGTAATCGCCGC', 'TTGAGTTGTCGATCGGTAAGGATACGCACTTACTTTCGGTTGACGTTGCTTTCTCT']\n"
     ]
    }
   ],
   "source": [
    "#generate and implant variavel motifs\n",
    "motifs_generated_seq, sequences = implantMotifVar(k, v, t, n)\n",
    "print(motifs_generated_seq)\n",
    "print(len(motifs_generated_seq))\n",
    "print(\"sequences\")\n",
    "print (sequences)"
   ]
  },
  {
   "cell_type": "markdown",
   "metadata": {},
   "source": [
    "2\\. Faire une fonction pour sélectionner des positions de départ aléatoirement s = (s1, …,st).\n"
   ]
  },
  {
   "cell_type": "code",
   "execution_count": 4,
   "metadata": {},
   "outputs": [
    {
     "output_type": "stream",
     "name": "stdout",
     "text": [
      "[37, 20, 39, 17, 26, 10, 18, 41, 40, 6, 21, 22, 4, 4, 10, 4, 11, 22, 10, 3]\n"
     ]
    }
   ],
   "source": [
    "#creating vector s\n",
    "#Get t random positions from 0 to n - k\n",
    "def generateRandomS(sequences,t,n,k):\n",
    "\ts = []\n",
    "\tfor i in range(t):\n",
    "\t\ts.append(random.randint(0,n-k))\n",
    "\treturn (s)\n",
    "\t#return random.sample(range(0,n-k),t)   Celui ci evite les doublons mais ne fonctionne pas quand le nombre de sequences est supérieur au nombre de bases par \t\t\t\t\t\t\t\t\t\t\t\tsequence (donc il ne fonctionne pas lorsque l'on teste avec notre châine)\n",
    "s = generateRandomS(sequences,t,n, k)\n",
    "print (s)"
   ]
  },
  {
   "cell_type": "markdown",
   "metadata": {},
   "source": [
    "3\\. Extraire les motifs en utilisant le vecteur s, et construire un profile. Attention, utiliser les pseudocount 1 pour éviter les probabilités zéro.\n"
   ]
  },
  {
   "cell_type": "code",
   "execution_count": 5,
   "metadata": {},
   "outputs": [],
   "source": [
    "from collections import Counter\n",
    "m = 4\n",
    "\n",
    "def removeLowComplexe(motifs, minrep):\n",
    "    validMotif = []\n",
    "    for motif in motifs:\n",
    "        frequence = Counter(motif)\n",
    "        # temoin pour savoir si une lettre est repetee ou non\n",
    "        temoin = True\n",
    "        for lettre, value in frequence.items():\n",
    "            if value >= minrep:\n",
    "                temoin = False\n",
    "        if temoin == True:\n",
    "            validMotif.append(motif)\n",
    "                \n",
    "    return validMotif\n",
    "\n",
    "def removeLowComplexePair(motifs):\n",
    "    validMotif = []\n",
    "    for motif in motifs:\n",
    "       frequence = Counter(motif)\n",
    "       if len(frequence) > 2:\n",
    "           validMotif.append(motif)\n",
    "\n",
    "    return validMotif\n"
   ]
  },
  {
   "cell_type": "code",
   "execution_count": 6,
   "metadata": {
    "tags": []
   },
   "outputs": [
    {
     "output_type": "stream",
     "name": "stdout",
     "text": [
      "['CCATATT', 'TAACATG', 'GACAGTG', 'GGGACAA', 'ACGTCTC', 'GCCCTGA', 'CCATGGT', 'CCTTGTG', 'AAGTCGC', 'GCATTCA', 'CCTGGTG', 'CCAGTGG', 'CATCTTG', 'TCCAGCG', 'GGTTGAC', 'TTAGTGC', 'TGCGAGT', 'AATGATT', 'AATTACC', 'CGCTGTA', 'CCATGGG', 'AAAGCCT', 'TCTAGTG', 'TAGAGCA', 'TGGATTG', 'TCGGCTG', 'GAGTACC', 'ACAGTTG', 'CGGATCC', 'TGAAGCT', 'GATACGC', 'ATATTGC', 'ACATGGC', 'CAGTGAC', 'GACAAGG', 'TGACAAG', 'GTCTCCG', 'CAATTAC', 'CCTGAGA', 'ATGGTGA', 'GTCGCGC', 'ATTCAAG', 'AGTGGAT', 'TCTTGGA', 'CAGCGTG', 'TTGACGT', 'TCGTTAG', 'CTTAAGA', 'CTGAATG', 'GGCAATT', 'GAGCGCT', 'TATCCAT', 'TGTCAAA', 'ATGTAGA', 'TAGTGGA', 'TTCTCGG', 'CTGCTCG', 'CATGAGT', 'ACCACAG', 'GAACGGA', 'AGGTGAA', 'CCTGGAT', 'TCGACTC', 'CCTGATG', 'ACTATCA', 'CTCTAGG', 'GTGGTTC', 'GCGCAAA', 'GATTCAC', 'CGGCCTA', 'GTACGAT', 'ACGTTCG', 'TCCAGTT', 'CACTTAC', 'CCATCAT', 'GCATGCA', 'AGACTCC', 'CTAACAG', 'GCCTATG', 'TCAGTGG', 'CGCGCTG', 'AAGTTTG', 'CTGTCTG', 'TGCTACG', 'GTCCAGC', 'AGGCCTC', 'CGATTAT', 'TTGTCGG', 'TTCGCAG', 'CTGCATT', 'GATCGGT', 'CGTTAGT', 'GATGCGA', 'TGAATGA', 'GCAATTA', 'AGCGCTG', 'ATCCATG', 'TGTAGAG', 'AGTGGAT', 'TCTCGGC', 'TGCTCGA', 'ATGAGTA', 'CCACAGT', 'AACGGAT', 'AGGATAC', 'ATTGCCG', 'ATGGCGT', 'GTGACAT', 'CAAGGTG', 'ACAAGTC', 'CTCCGTG', 'ATTACAG', 'TGAGAAT', 'GGTGATC', 'GTGCTTC', 'TCAAGCT', 'TGGATCG', 'GCGTGTA', 'GACGTTG', 'TATTGCC', 'CATGGCG', 'AGTGACA', 'ACAAGGT', 'GACAAGT', 'TCTCCGT', 'CTGAGAA', 'TGGTGAT', 'TTCAAGC', 'GTGGATC', 'CTTGGAG', 'AGCGTGT', 'TGACGTT', 'GTAACCA', 'CCTTGCA', 'AGCCAGA', 'GCGTCTA', 'GGCAGCC', 'ATTGTCA', 'GCGACTG', 'TTAATGC', 'ATTGGTC', 'TCACAGA', 'GATTTGG', 'ACGACGA', 'TACCCTG', 'TGTCGAT', 'TAGTGCC', 'GCGAGTT', 'ATGATTC', 'ATTACCC', 'GCTGTAC', 'CATGGGT', 'AAGCCTA', 'CTAGTGT', 'GGATTGC', 'CGGCTGA', 'TCGACCG', 'AGTACCT', 'CAGTTGT', 'GGATCCT', 'ATATTAC', 'GAAGCTC', 'ATACGCA', 'AGTGCCT', 'CGAGTTT', 'TGATTCG', 'TTACCCT', 'CTGTACT', 'ATGGGTA', 'AAACCTC', 'AGCCTAA', 'TAGTGTG', 'GATTGCG', 'GGCTGAT', 'CGACCGG', 'GTACCTA', 'AGTTGTA', 'GATCCTG', 'TATTACG', 'AAGCTCC', 'TACGCAC', 'CCGTAAC', 'CTCCTTG', 'GGAGCCA', 'ACGCGTC', 'TAGGCAG', 'CAGTGGC', 'CTGCAAA', 'ACGCGAC', 'CCTTAAT', 'TCATTGG', 'AGGGCAA', 'ATTCACA', 'TTACGAC', 'GGTACCC', 'GTTGTCG', 'CCGTAAC', 'CTCCTTG', 'GGAGCCA', 'ACGCGTC', 'TAGGCAG', 'CAGTGGC', 'CTGCAAA', 'ACGCGAC', 'CCTTAAT', 'TCATTGG', 'AGGGCAA', 'ATTCACA', 'TTACGAC', 'GGTACCC', 'GTTGTCG', 'CCATCAT', 'GCATGCA', 'AGACTCC', 'CTAACAG', 'GCCTATG', 'TCAGTGG', 'CGCGCTG', 'AAGTTTG', 'CTGTCTG', 'TGCTACG', 'GTCCAGC', 'AGGCCTC', 'CGATTAT', 'TTGTCGG', 'TTCGCAG', 'CTGCATT', 'GATCGGT', 'CCGTAAC', 'CTCCTTG', 'GGAGCCA', 'ACGCGTC', 'TAGGCAG', 'CAGTGGC', 'CTGCAAA', 'ACGCGAC', 'CCTTAAT', 'TCATTGG', 'AGGGCAA', 'ATTCACA', 'TTACGAC', 'GGTACCC', 'GTTGTCG', 'CATCATT', 'CATGCAG', 'TAACAGC', 'CCTATGG', 'GCGCTGT', 'GCTACGG', 'TCCAGCA', 'GGCCTCT', 'GAACGAT', 'GATTATC', 'TGTCGGA', 'TCGCAGC', 'TGCATTA', 'ATCGGTA', 'AGTGCCT', 'CGAGTTT', 'TGATTCG', 'TTACCCT', 'CTGTACT', 'ATGGGTA', 'AAACCTC', 'AGCCTAA', 'TAGTGTG', 'GATTGCG', 'GGCTGAT', 'CGACCGG', 'GTACCTA', 'AGTTGTA', 'GATCCTG', 'TATTACG', 'AAGCTCC', 'TACGCAC', 'CCATCAT', 'GCATGCA', 'AGACTCC', 'CTAACAG', 'GCCTATG', 'TCAGTGG', 'CGCGCTG', 'AAGTTTG', 'CTGTCTG', 'TGCTACG', 'GTCCAGC', 'AGGCCTC', 'CGATTAT', 'TTGTCGG', 'TTCGCAG', 'CTGCATT', 'GATCGGT', 'GCCGTAA', 'TGGAGCC', 'AACGCGT', 'ATAGGCA', 'ACTATTG', 'TCAGTGG', 'GCTGCAA', 'GACGCGA', 'CCCTTAA', 'CTCATTG', 'TAGGGCA', 'AATTCAC', 'TTTACGA', 'CCGTTTG', 'GATTGTC', 'AGGTACC', 'AGTTGTC']\n[[80. 72. 78. 57. 64. 76. 70.]\n [80. 80. 60. 83. 89. 71. 77.]\n [75. 79. 95. 76. 86. 76. 99.]\n [78. 82. 80. 97. 74. 90. 67.]]\n"
     ]
    }
   ],
   "source": [
    "\n",
    "#extract sequences from seqs\n",
    "def extractSeqs(s, seqs):\n",
    "    motifs = []    #Liste de motifs retour\n",
    "    for start in s:     #on parcourt les positions départ\n",
    "        for seq in seqs:    #et les sequences\n",
    "            motifs.append(seq[start:start+k])   #on ajoute a la liste retour les k bases a partir de start\n",
    "\n",
    "    #on enleve les motifs non interessants\n",
    "    #print(len(motifs))\n",
    "    motifs = removeLowComplexe(motifs, m)\n",
    "    motifs = removeLowComplexePair(motifs)\n",
    "    #print(len(motifs))\n",
    "    return motifs\n",
    "        \n",
    "motifs = extractSeqs(s, sequences)\n",
    "print(motifs)\n",
    "\n",
    "#construct Profiles\n",
    "def profile(motifs, k, t):\n",
    "    q = len(nuc)\n",
    "    res = np.ones((q, k))#pseudo count\n",
    "    for motif in motifs:\n",
    "        i = 0\n",
    "        while i < len(motif):\n",
    "            l = motif[i]\n",
    "            if l == 'A':\n",
    "                res[0][i] += 1\n",
    "            if l == 'C':\n",
    "                res[1][i] += 1\n",
    "            if l == 'G':\n",
    "                res[2][i] += 1\n",
    "            if l == 'T':\n",
    "                res[3][i] += 1\n",
    "            i += 1\n",
    "    return res\n",
    "P = profile(motifs,k,t)\n",
    "print(P)\n"
   ]
  },
  {
   "cell_type": "markdown",
   "metadata": {},
   "source": [
    "4\\. Transformer le Profile en PWM. Il faut diviser chaque élément par la somme de ses colonnes."
   ]
  },
  {
   "cell_type": "code",
   "execution_count": 7,
   "metadata": {
    "tags": []
   },
   "outputs": [
    {
     "output_type": "stream",
     "name": "stdout",
     "text": [
      "[[0.25559105431309903, 0.23003194888178913, 0.24920127795527156, 0.18210862619808307, 0.20447284345047922, 0.24281150159744408, 0.22364217252396165], [0.25559105431309903, 0.25559105431309903, 0.19169329073482427, 0.26517571884984026, 0.28434504792332266, 0.2268370607028754, 0.24600638977635783], [0.23961661341853036, 0.2523961661341853, 0.3035143769968051, 0.24281150159744408, 0.2747603833865815, 0.24281150159744408, 0.31629392971246006], [0.24920127795527156, 0.26198083067092653, 0.25559105431309903, 0.30990415335463256, 0.2364217252396166, 0.28753993610223644, 0.21405750798722045]]\n"
     ]
    }
   ],
   "source": [
    "def getPWM(P):\n",
    "    res=[]\n",
    "    i=0\n",
    "    j=0\n",
    "    while i<4:  #Il y aura toujours que 4 bases (A,C,G,T) \n",
    "        tempres=[]\n",
    "        while j<k: #k etant la longueur des motifs, c'est aussi la longueur des profils\n",
    "            tempres.append(P[i][j]/(P[0][j]+P[1][j]+P[2][j]+P[3][j]))\n",
    "            j+=1\n",
    "        j=0\n",
    "        i+=1\n",
    "        res.append(tempres)\n",
    "    return res\n",
    "\n",
    "_PWM=getPWM(P)\n",
    "print(_PWM)"
   ]
  },
  {
   "cell_type": "markdown",
   "metadata": {},
   "source": [
    "5\\. Faire une fonction pour calculer la probabilité d'un motif de taille k selon une PWM.\n"
   ]
  },
  {
   "cell_type": "code",
   "execution_count": 8,
   "metadata": {},
   "outputs": [],
   "source": [
    "def probability(Pwm, motif):\n",
    "    prob = 1\n",
    "    i=0\n",
    "    while i<k:\n",
    "        base=motif[i]\n",
    "        #A est sur la première ligne du profil, C 2, G 3 et T 4\n",
    "        if base=='A':\n",
    "            prob=prob*Pwm[0][i]\n",
    "        if base=='C':\n",
    "            prob=prob*Pwm[1][i]\n",
    "        if base=='G':\n",
    "            prob=prob*Pwm[2][i]\n",
    "        if base=='T':\n",
    "            prob=prob*Pwm[3][i]\n",
    "        i+=1\n",
    "    return prob\n"
   ]
  },
  {
   "cell_type": "markdown",
   "metadata": {},
   "source": [
    "6\\. Faire une fonction pour calculer le pMostProbkmer d'une séquence, voir un exemple dans les slides de cours."
   ]
  },
  {
   "cell_type": "code",
   "execution_count": 9,
   "metadata": {},
   "outputs": [
    {
     "output_type": "stream",
     "name": "stdout",
     "text": [
      "23\n"
     ]
    }
   ],
   "source": [
    "def pMostProbkmer(Pwm, k, sequence):\n",
    "    maxProb = 0\n",
    "    s = 0 # position du k-mer le plus probable dans la sequence\n",
    "    i = 0 \n",
    "    while i<len(sequence)-k: #on teste que des sequences de taille k\n",
    "        iprob=probability(Pwm,sequence[i:i+k])\n",
    "        if maxProb<iprob: \n",
    "            s=i\n",
    "            maxProb=iprob\n",
    "        i+=1\n",
    "    return s\n",
    "\n",
    "print(pMostProbkmer(_PWM,k,sequences[0]))"
   ]
  },
  {
   "cell_type": "markdown",
   "metadata": {},
   "source": [
    "7\\. Faire une fonction pour obtenir les nouvelles positions de départ s = (s1, …,st), c’était à dire les positions qui contiens les k-mer le plus probables."
   ]
  },
  {
   "cell_type": "code",
   "execution_count": 10,
   "metadata": {},
   "outputs": [
    {
     "output_type": "stream",
     "name": "stdout",
     "text": [
      "[23, 42, 5, 43, 12, 7, 37, 12, 10, 22, 37, 45, 20, 10, 38, 34, 4, 27, 39, 32]\n"
     ]
    }
   ],
   "source": [
    "def getNewS(Pwm, k, sequences):\n",
    "    s = []\n",
    "    for seq in sequences:\n",
    "        s.append(pMostProbkmer(Pwm,k,seq)) #pMostProbKmer renvoiela position du kmer le plus probable de la sequence\n",
    "    return s\n",
    "\n",
    "ns = getNewS(_PWM, k, sequences)\n",
    "print (ns)"
   ]
  },
  {
   "cell_type": "markdown",
   "metadata": {},
   "source": [
    "8\\. La condition d’arrêt d’algorithme est le non changement du Profile d'une itération à l'autre, faire une fonction pour comparer deux Profils (matrice) et détecter le changement."
   ]
  },
  {
   "cell_type": "code",
   "execution_count": 11,
   "metadata": {},
   "outputs": [
    {
     "output_type": "stream",
     "name": "stdout",
     "text": [
      "[23, 42, 5, 43, 12, 7, 37, 12, 10, 22, 37, 45, 20, 10, 38, 34, 4, 27, 39, 32]\nATGTCTG\n632.0\n"
     ]
    }
   ],
   "source": [
    "def changeProfile(Profile1, Profile2):\n",
    "    i=0\n",
    "    j=0\n",
    "    while i<4:\n",
    "        while j<k:\n",
    "            if Profile1[i][j]!=Profile2[i][j]: #si une case diffère d'un profile a l'autre alors on renvoie True\n",
    "                return True\n",
    "            j+=1\n",
    "        j=0\n",
    "        i+=1\n",
    "    return False #sinon les deux profils sont egaux donc on n'avance plus\n",
    "\n",
    "corresp = {0:\"A\", 1:\"C\", 2:\"G\", 3:\"T\"}\n",
    "\n",
    "def getScore(Pr, k):\n",
    "    sc = 0\n",
    "    i = 0\n",
    "    j = 0\n",
    "    base = ''\n",
    "    consensus = \"\"\n",
    "    while j < len(Pr[i]):\n",
    "        max_ = 0\n",
    "        while i < len(Pr):\n",
    "            if Pr[i][j] > max_:\n",
    "                max_ = Pr[i][j]\n",
    "                base = corresp[i]\n",
    "            i += 1\n",
    "        sc += max_\n",
    "        consensus += base\n",
    "        i = 0\n",
    "        j += 1\n",
    "    return consensus, sc\n",
    "\n",
    "ns = getNewS(_PWM, k, sequences)\n",
    "print (ns)\n",
    "\n",
    "consensus, sc = getScore(P, k)\n",
    "print (consensus)\n",
    "print (sc)\n"
   ]
  },
  {
   "cell_type": "markdown",
   "metadata": {},
   "source": [
    "9\\. Implementer l'algorithme ``GreedyProfileMotifSearch`` en utilisant les fonctions precedentes. \n"
   ]
  },
  {
   "cell_type": "code",
   "execution_count": 12,
   "metadata": {
    "tags": []
   },
   "outputs": [
    {
     "output_type": "stream",
     "name": "stdout",
     "text": [
      "temps = 0.010501623153686523\nCCTTCTG\nmotifs implantés : \n['TAACCAT', 'TAACATG', 'TAATAAA', 'TAAGCAT', 'TGATGCT', 'TATTGCT', 'TAAAACC', 'TGCTGCA', 'AAAAGCC', 'TAATGCT', 'TCATGGC', 'TAGGGCA', 'TGATTCA', 'TTGGGCT', 'TTATCAT', 'CGATGCT', 'TAATTCC', 'TATTACG', 'TGAAGCT', 'CGTTGCT']\n613.0 [13, 5, 30, 31, 26, 10, 3, 0, 39, 38, 4, 16, 43, 31, 5, 6, 37, 8, 27, 35]\n"
     ]
    }
   ],
   "source": [
    "import time\n",
    "def GreedyProfileMotifSearch(sequences, t, n, k):\n",
    "    #resultats\n",
    "    bestScore = 0\n",
    "    consensus = \"\"\n",
    "    #selection de positions starts\n",
    "    starts = generateRandomS(sequences, t, n, k)\n",
    "    #creation des motifs avec les starts\n",
    "    motifs = extractSeqs(starts, sequences)\n",
    "    #creation du profile associé aux starts\n",
    "    profil = profile(motifs, k, t)\n",
    "    #creation du PWM\n",
    "    pwm = getPWM(profil)\n",
    "    #calcul du score\n",
    "    cons, score = getScore(profil, sequences)\n",
    "\n",
    "    cpt = 0\n",
    "    while score > bestScore:\n",
    "        cpt += 1\n",
    "        #attribution nouveau score et nouveau consensus\n",
    "        bestScore = score\n",
    "        consensus = cons\n",
    "\n",
    "        #generation de nouveaux starts censés etre meilleurs\n",
    "        starts = getNewS(pwm, k, sequences)\n",
    "        #creation des motifs avec les starts\n",
    "        motifs = extractSeqs(starts, sequences)\n",
    "        #creation du profile associé aux starts\n",
    "        profil = profile(motifs, k, t)\n",
    "        #creation du PWM\n",
    "        pwm = getPWM(profil)\n",
    "        #calcul du score\n",
    "        cons, score = getScore(profil, sequences)\n",
    "\n",
    "    return cons, bestScore, starts\n",
    "\n",
    "start = time.time()\n",
    "consensus, s, bestScore = GreedyProfileMotifSearch(sequences, t, n, k)  \n",
    "fin = time.time()\n",
    "print(\"temps = {}\".format(fin-start))\n",
    "print(consensus) \n",
    "print(\"motifs implantés : \")\n",
    "print(motifs_generated_seq)\n",
    "print(s, bestScore)"
   ]
  },
  {
   "cell_type": "markdown",
   "metadata": {},
   "source": [
    "10\\. Avez vous trouvez le motif implanté? Rexécuter l’algorithme plusieurs fois pour le trouver. "
   ]
  },
  {
   "cell_type": "markdown",
   "metadata": {},
   "source": [
    "Reponse: nous trouvons le motif CTCAATT, le motif le plus proche que nous avons généré est CTAACTT. Il etait peu probable d'arriver a retrouver ce motif ou un autre étant donné le nombre important de bases mutées dans \n",
    "nos motifs (4 sur 7...)"
   ]
  },
  {
   "cell_type": "markdown",
   "metadata": {},
   "source": [
    "11\\. Vous avez certainement observer que l’algorithme ne produire pas toujours la même sortie et que les résultats dépendent de la sélection aléatoire des positions de départ s. Pour augmenter nous chances de retrouvez les bons motifs, nous allons implémenter une version itérative ``GreedyProfileMotifSearchIte`` \n",
    "qui a chaque fois sauvegarde s et le score du profile associé à s, après I itération, l’algorithme renvoie le vecteur s ayant le plus grand score."
   ]
  },
  {
   "cell_type": "code",
   "execution_count": 13,
   "metadata": {
    "tags": []
   },
   "outputs": [
    {
     "output_type": "stream",
     "name": "stdout",
     "text": [
      "temps : 0.6226096153259277\nCCTGTTG\n['TAACCAT', 'TAACATG', 'TAATAAA', 'TAAGCAT', 'TGATGCT', 'TATTGCT', 'TAAAACC', 'TGCTGCA', 'AAAAGCC', 'TAATGCT', 'TCATGGC', 'TAGGGCA', 'TGATTCA', 'TTGGGCT', 'TTATCAT', 'CGATGCT', 'TAATTCC', 'TATTACG', 'TGAAGCT', 'CGTTGCT']\n699.0\n[38, 15, 16, 31, 26, 3, 47, 0, 6, 38, 37, 15, 20, 13, 41, 37, 25, 1, 27, 35]\n"
     ]
    }
   ],
   "source": [
    "\n",
    "def GreedyProfileMotifSearchIte(sequences, t, n, k, It):\n",
    "    ScoreList=[]\n",
    "    StartList=[]\n",
    "    ConsensusList = []\n",
    "    i = 0\n",
    "    while i < It:\n",
    "        consensus, score, starts = GreedyProfileMotifSearch(sequences, t, n, k)\n",
    "        ConsensusList.append(consensus)\n",
    "        ScoreList.append(score)\n",
    "        StartList.append(starts)\n",
    "        i += 1\n",
    "        #print(i)\n",
    "\n",
    "    index = ScoreList.index(max(ScoreList))\n",
    "    return ConsensusList[index], ScoreList[index], StartList[index]\n",
    "\n",
    "start=time.time()\n",
    "consensusIte, bestScoreIte, startsIte = GreedyProfileMotifSearchIte(sequences, t, n, k, 50)\n",
    "end=time.time()\n",
    "print(\"temps : {}\".format(end-start))\n",
    "print (consensusIte)\n",
    "print(motifs_generated_seq)\n",
    "print (bestScoreIte)\n",
    "print (startsIte)"
   ]
  },
  {
   "cell_type": "markdown",
   "metadata": {},
   "source": [
    "12\\. Tester algorithme  ``GreedyProfileMotifSearchIte`` sur vos données de chipSeq."
   ]
  },
  {
   "cell_type": "code",
   "execution_count": 14,
   "metadata": {},
   "outputs": [
    {
     "output_type": "stream",
     "name": "stdout",
     "text": [
      "330 80 7\n"
     ]
    },
    {
     "output_type": "error",
     "ename": "KeyboardInterrupt",
     "evalue": "",
     "traceback": [
      "\u001b[1;31m---------------------------------------------------------------------------\u001b[0m",
      "\u001b[1;31mKeyboardInterrupt\u001b[0m                         Traceback (most recent call last)",
      "\u001b[1;32m<ipython-input-14-2f934c24663e>\u001b[0m in \u001b[0;36m<module>\u001b[1;34m\u001b[0m\n\u001b[0;32m     20\u001b[0m \u001b[0mprint\u001b[0m \u001b[1;33m(\u001b[0m\u001b[0mt\u001b[0m\u001b[1;33m,\u001b[0m \u001b[0mn\u001b[0m\u001b[1;33m,\u001b[0m \u001b[0mk\u001b[0m\u001b[1;33m)\u001b[0m\u001b[1;33m\u001b[0m\u001b[1;33m\u001b[0m\u001b[0m\n\u001b[0;32m     21\u001b[0m \u001b[1;33m\u001b[0m\u001b[0m\n\u001b[1;32m---> 22\u001b[1;33m \u001b[0mconsensusIteChip\u001b[0m\u001b[1;33m,\u001b[0m \u001b[0mbestScoreIteChip\u001b[0m\u001b[1;33m,\u001b[0m \u001b[0mstartsIteChip\u001b[0m \u001b[1;33m=\u001b[0m \u001b[0mGreedyProfileMotifSearchIte\u001b[0m\u001b[1;33m(\u001b[0m\u001b[0msequencesChip\u001b[0m\u001b[1;33m,\u001b[0m \u001b[0mt\u001b[0m\u001b[1;33m,\u001b[0m \u001b[0mn\u001b[0m\u001b[1;33m,\u001b[0m \u001b[0mk\u001b[0m\u001b[1;33m,\u001b[0m \u001b[1;36m50\u001b[0m\u001b[1;33m)\u001b[0m\u001b[1;33m\u001b[0m\u001b[1;33m\u001b[0m\u001b[0m\n\u001b[0m\u001b[0;32m     23\u001b[0m \u001b[0mprint\u001b[0m \u001b[1;33m(\u001b[0m\u001b[0mconsensusIteChip\u001b[0m\u001b[1;33m,\u001b[0m \u001b[0mbestScoreIteChip\u001b[0m\u001b[1;33m,\u001b[0m \u001b[0mstartsIteChip\u001b[0m\u001b[1;33m)\u001b[0m\u001b[1;33m\u001b[0m\u001b[1;33m\u001b[0m\u001b[0m\n",
      "\u001b[1;32m<ipython-input-13-8b1e42a2b206>\u001b[0m in \u001b[0;36mGreedyProfileMotifSearchIte\u001b[1;34m(sequences, t, n, k, It)\u001b[0m\n\u001b[0;32m      5\u001b[0m     \u001b[0mi\u001b[0m \u001b[1;33m=\u001b[0m \u001b[1;36m0\u001b[0m\u001b[1;33m\u001b[0m\u001b[1;33m\u001b[0m\u001b[0m\n\u001b[0;32m      6\u001b[0m     \u001b[1;32mwhile\u001b[0m \u001b[0mi\u001b[0m \u001b[1;33m<\u001b[0m \u001b[0mIt\u001b[0m\u001b[1;33m:\u001b[0m\u001b[1;33m\u001b[0m\u001b[1;33m\u001b[0m\u001b[0m\n\u001b[1;32m----> 7\u001b[1;33m         \u001b[0mconsensus\u001b[0m\u001b[1;33m,\u001b[0m \u001b[0mscore\u001b[0m\u001b[1;33m,\u001b[0m \u001b[0mstarts\u001b[0m \u001b[1;33m=\u001b[0m \u001b[0mGreedyProfileMotifSearch\u001b[0m\u001b[1;33m(\u001b[0m\u001b[0msequences\u001b[0m\u001b[1;33m,\u001b[0m \u001b[0mt\u001b[0m\u001b[1;33m,\u001b[0m \u001b[0mn\u001b[0m\u001b[1;33m,\u001b[0m \u001b[0mk\u001b[0m\u001b[1;33m)\u001b[0m\u001b[1;33m\u001b[0m\u001b[1;33m\u001b[0m\u001b[0m\n\u001b[0m\u001b[0;32m      8\u001b[0m         \u001b[0mConsensusList\u001b[0m\u001b[1;33m.\u001b[0m\u001b[0mappend\u001b[0m\u001b[1;33m(\u001b[0m\u001b[0mconsensus\u001b[0m\u001b[1;33m)\u001b[0m\u001b[1;33m\u001b[0m\u001b[1;33m\u001b[0m\u001b[0m\n\u001b[0;32m      9\u001b[0m         \u001b[0mScoreList\u001b[0m\u001b[1;33m.\u001b[0m\u001b[0mappend\u001b[0m\u001b[1;33m(\u001b[0m\u001b[0mscore\u001b[0m\u001b[1;33m)\u001b[0m\u001b[1;33m\u001b[0m\u001b[1;33m\u001b[0m\u001b[0m\n",
      "\u001b[1;32m<ipython-input-12-361c869fdead>\u001b[0m in \u001b[0;36mGreedyProfileMotifSearch\u001b[1;34m(sequences, t, n, k)\u001b[0m\n\u001b[0;32m      7\u001b[0m     \u001b[0mstarts\u001b[0m \u001b[1;33m=\u001b[0m \u001b[0mgenerateRandomS\u001b[0m\u001b[1;33m(\u001b[0m\u001b[0msequences\u001b[0m\u001b[1;33m,\u001b[0m \u001b[0mt\u001b[0m\u001b[1;33m,\u001b[0m \u001b[0mn\u001b[0m\u001b[1;33m,\u001b[0m \u001b[0mk\u001b[0m\u001b[1;33m)\u001b[0m\u001b[1;33m\u001b[0m\u001b[1;33m\u001b[0m\u001b[0m\n\u001b[0;32m      8\u001b[0m     \u001b[1;31m#creation des motifs avec les starts\u001b[0m\u001b[1;33m\u001b[0m\u001b[1;33m\u001b[0m\u001b[1;33m\u001b[0m\u001b[0m\n\u001b[1;32m----> 9\u001b[1;33m     \u001b[0mmotifs\u001b[0m \u001b[1;33m=\u001b[0m \u001b[0mextractSeqs\u001b[0m\u001b[1;33m(\u001b[0m\u001b[0mstarts\u001b[0m\u001b[1;33m,\u001b[0m \u001b[0msequences\u001b[0m\u001b[1;33m)\u001b[0m\u001b[1;33m\u001b[0m\u001b[1;33m\u001b[0m\u001b[0m\n\u001b[0m\u001b[0;32m     10\u001b[0m     \u001b[1;31m#creation du profile associé aux starts\u001b[0m\u001b[1;33m\u001b[0m\u001b[1;33m\u001b[0m\u001b[1;33m\u001b[0m\u001b[0m\n\u001b[0;32m     11\u001b[0m     \u001b[0mprofil\u001b[0m \u001b[1;33m=\u001b[0m \u001b[0mprofile\u001b[0m\u001b[1;33m(\u001b[0m\u001b[0mmotifs\u001b[0m\u001b[1;33m,\u001b[0m \u001b[0mk\u001b[0m\u001b[1;33m,\u001b[0m \u001b[0mt\u001b[0m\u001b[1;33m)\u001b[0m\u001b[1;33m\u001b[0m\u001b[1;33m\u001b[0m\u001b[0m\n",
      "\u001b[1;32m<ipython-input-6-faf33a66de47>\u001b[0m in \u001b[0;36mextractSeqs\u001b[1;34m(s, seqs)\u001b[0m\n\u001b[0;32m      8\u001b[0m     \u001b[1;31m#on enleve les motifs non interessants\u001b[0m\u001b[1;33m\u001b[0m\u001b[1;33m\u001b[0m\u001b[1;33m\u001b[0m\u001b[0m\n\u001b[0;32m      9\u001b[0m     \u001b[1;31m#print(len(motifs))\u001b[0m\u001b[1;33m\u001b[0m\u001b[1;33m\u001b[0m\u001b[1;33m\u001b[0m\u001b[0m\n\u001b[1;32m---> 10\u001b[1;33m     \u001b[0mmotifs\u001b[0m \u001b[1;33m=\u001b[0m \u001b[0mremoveLowComplexe\u001b[0m\u001b[1;33m(\u001b[0m\u001b[0mmotifs\u001b[0m\u001b[1;33m,\u001b[0m \u001b[0mm\u001b[0m\u001b[1;33m)\u001b[0m\u001b[1;33m\u001b[0m\u001b[1;33m\u001b[0m\u001b[0m\n\u001b[0m\u001b[0;32m     11\u001b[0m     \u001b[0mmotifs\u001b[0m \u001b[1;33m=\u001b[0m \u001b[0mremoveLowComplexePair\u001b[0m\u001b[1;33m(\u001b[0m\u001b[0mmotifs\u001b[0m\u001b[1;33m)\u001b[0m\u001b[1;33m\u001b[0m\u001b[1;33m\u001b[0m\u001b[0m\n\u001b[0;32m     12\u001b[0m     \u001b[1;31m#print(len(motifs))\u001b[0m\u001b[1;33m\u001b[0m\u001b[1;33m\u001b[0m\u001b[1;33m\u001b[0m\u001b[0m\n",
      "\u001b[1;32m<ipython-input-5-eac193471aad>\u001b[0m in \u001b[0;36mremoveLowComplexe\u001b[1;34m(motifs, minrep)\u001b[0m\n\u001b[0;32m      8\u001b[0m         \u001b[1;31m# temoin pour savoir si une lettre est repetee ou non\u001b[0m\u001b[1;33m\u001b[0m\u001b[1;33m\u001b[0m\u001b[1;33m\u001b[0m\u001b[0m\n\u001b[0;32m      9\u001b[0m         \u001b[0mtemoin\u001b[0m \u001b[1;33m=\u001b[0m \u001b[1;32mTrue\u001b[0m\u001b[1;33m\u001b[0m\u001b[1;33m\u001b[0m\u001b[0m\n\u001b[1;32m---> 10\u001b[1;33m         \u001b[1;32mfor\u001b[0m \u001b[0mlettre\u001b[0m\u001b[1;33m,\u001b[0m \u001b[0mvalue\u001b[0m \u001b[1;32min\u001b[0m \u001b[0mfrequence\u001b[0m\u001b[1;33m.\u001b[0m\u001b[0mitems\u001b[0m\u001b[1;33m(\u001b[0m\u001b[1;33m)\u001b[0m\u001b[1;33m:\u001b[0m\u001b[1;33m\u001b[0m\u001b[1;33m\u001b[0m\u001b[0m\n\u001b[0m\u001b[0;32m     11\u001b[0m             \u001b[1;32mif\u001b[0m \u001b[0mvalue\u001b[0m \u001b[1;33m>=\u001b[0m \u001b[0mminrep\u001b[0m\u001b[1;33m:\u001b[0m\u001b[1;33m\u001b[0m\u001b[1;33m\u001b[0m\u001b[0m\n\u001b[0;32m     12\u001b[0m                 \u001b[0mtemoin\u001b[0m \u001b[1;33m=\u001b[0m \u001b[1;32mFalse\u001b[0m\u001b[1;33m\u001b[0m\u001b[1;33m\u001b[0m\u001b[0m\n",
      "\u001b[1;31mKeyboardInterrupt\u001b[0m: "
     ]
    }
   ],
   "source": [
    "k=7; t=20; n=80\n",
    "\n",
    "def readFasta(genome, n):\n",
    "    sequence = []\n",
    "    file = open(genome, \"r\")\n",
    "    sequence = []\n",
    "    for s in file:\n",
    "        if s[0] != \">\":\n",
    "            sequence.append(s.strip().upper())\n",
    "    sequenceStr = \"\".join(sequence)\n",
    "    \n",
    "    sequence = [sequenceStr[i:i+n] for i in range(0, len(sequenceStr), n)]\n",
    "    sequenceRet = [x for x in sequence if x]\n",
    "    return sequenceRet\n",
    "\n",
    "genome = \"./Sequence_by_Peaks_6.fasta\" #path of your fasta seqs\n",
    "\n",
    "sequencesChip = readFasta(genome, n)\n",
    "t = len(sequencesChip)\n",
    "print (t, n, k)\n",
    "\n",
    "consensusIteChip, bestScoreIteChip, startsIteChip = GreedyProfileMotifSearchIte(sequencesChip, t, n, k, 50)\n",
    "print (consensusIteChip, bestScoreIteChip, startsIteChip)"
   ]
  },
  {
   "cell_type": "code",
   "execution_count": 15,
   "metadata": {},
   "outputs": [],
   "source": [
    "#Nous eliminons les motifs peu interessants avec les deux fonctions removelowcomplexe et removepair dans extractseqs mais le consensus est la construction d'un motif a partir du profile donc on ne peut pas #controler.\n",
    "#Nous pouvons cependant parcourir les sequences en prenant a chaque fois le motif associé a sa position de depart pour avoir la liste de motifs resultats de l'algo. On pourra ensuite filtrer cette liste a l'aide\n",
    "#de nos deux fonctions"
   ]
  },
  {
   "cell_type": "code",
   "execution_count": 16,
   "metadata": {},
   "outputs": [
    {
     "output_type": "error",
     "ename": "NameError",
     "evalue": "name 'startsIteChip' is not defined",
     "traceback": [
      "\u001b[1;31m---------------------------------------------------------------------------\u001b[0m",
      "\u001b[1;31mNameError\u001b[0m                                 Traceback (most recent call last)",
      "\u001b[1;32m<ipython-input-16-825de3e66578>\u001b[0m in \u001b[0;36m<module>\u001b[1;34m\u001b[0m\n\u001b[0;32m      3\u001b[0m \u001b[0mmotifsChip\u001b[0m \u001b[1;33m=\u001b[0m \u001b[1;33m[\u001b[0m\u001b[1;33m]\u001b[0m\u001b[1;33m\u001b[0m\u001b[1;33m\u001b[0m\u001b[0m\n\u001b[0;32m      4\u001b[0m \u001b[0mi\u001b[0m \u001b[1;33m=\u001b[0m \u001b[1;36m0\u001b[0m\u001b[1;33m\u001b[0m\u001b[1;33m\u001b[0m\u001b[0m\n\u001b[1;32m----> 5\u001b[1;33m \u001b[1;32mfor\u001b[0m \u001b[0ms\u001b[0m \u001b[1;32min\u001b[0m \u001b[0mstartsIteChip\u001b[0m\u001b[1;33m:\u001b[0m\u001b[1;33m\u001b[0m\u001b[1;33m\u001b[0m\u001b[0m\n\u001b[0m\u001b[0;32m      6\u001b[0m     \u001b[0mseq\u001b[0m \u001b[1;33m=\u001b[0m \u001b[0msequencesChip\u001b[0m\u001b[1;33m[\u001b[0m\u001b[0mi\u001b[0m\u001b[1;33m]\u001b[0m\u001b[1;33m\u001b[0m\u001b[1;33m\u001b[0m\u001b[0m\n\u001b[0;32m      7\u001b[0m     \u001b[0mmotifsChip\u001b[0m\u001b[1;33m.\u001b[0m\u001b[0mappend\u001b[0m\u001b[1;33m(\u001b[0m\u001b[0mseq\u001b[0m\u001b[1;33m[\u001b[0m\u001b[0ms\u001b[0m\u001b[1;33m:\u001b[0m\u001b[0ms\u001b[0m\u001b[1;33m+\u001b[0m\u001b[0mk\u001b[0m\u001b[1;33m]\u001b[0m\u001b[1;33m)\u001b[0m\u001b[1;33m\u001b[0m\u001b[1;33m\u001b[0m\u001b[0m\n",
      "\u001b[1;31mNameError\u001b[0m: name 'startsIteChip' is not defined"
     ]
    }
   ],
   "source": [
    "m = 5\n",
    "\n",
    "motifsChip = []\n",
    "i = 0\n",
    "for s in startsIteChip:\n",
    "    seq = sequencesChip[i]\n",
    "    motifsChip.append(seq[s:s+k])\n",
    "    i+=1\n",
    "\n",
    "motifsChip = removeLowComplexe(motifsChip, m)\n",
    "motifsChip = removeLowComplexePair(motifsChip)\n",
    "print(motifsChip)"
   ]
  },
  {
   "cell_type": "markdown",
   "metadata": {},
   "source": [
    "13\\. Nous allons implémenter l'algorithme ``randomProjection``. Faire une fonction pour générer une projection de l à k, voir un exemple dans les slides de cours"
   ]
  },
  {
   "cell_type": "code",
   "execution_count": 17,
   "metadata": {},
   "outputs": [
    {
     "output_type": "stream",
     "name": "stdout",
     "text": [
      "[8, 21, 27, 34, 39, 42, 47]\nATCAATG\n"
     ]
    }
   ],
   "source": [
    "k=7; v=1; t=20; n=50\n",
    "\n",
    "def getRandomFixePositions(k, n):\n",
    "    return random.sample(range(n), k)\n",
    "\n",
    "lR = getRandomFixePositions(k, n)\n",
    "lR.sort()\n",
    "print (lR)\n",
    "\n",
    "def generateKey(positions, motif):\n",
    "    m = \"\"\n",
    "    for i in positions:\n",
    "        m = m + motif[i]\n",
    "    return m\n",
    "key = generateKey(lR, sequences[0])\n",
    "print(key)\n"
   ]
  },
  {
   "cell_type": "markdown",
   "metadata": {},
   "source": [
    "14\\. Implémenter l'algorithme ``randomProjection``."
   ]
  },
  {
   "cell_type": "code",
   "execution_count": 18,
   "metadata": {},
   "outputs": [
    {
     "output_type": "stream",
     "name": "stdout",
     "text": [
      "0.0\n['GTCTGCG', 'CCGGGAT', 'AGTAAGT', 'GCCAGTG', 'GGAATAC', 'ATTGTCT', 'GTCCTTG', 'GCTAAAG', 'GCCAGTT', 'TTACATC', 'ATAAAAC', 'GGCGACG', 'TCCCGCA', 'GACTGTT', 'ACTATAG', 'TTCCGGT', 'TTCGATG', 'TGCAAAG', 'TAAGATA', 'TGGAACG']\n{'GTCTGCG': 1, 'CCGGGAT': 1, 'AGTAAGT': 1, 'GCCAGTG': 1, 'GGAATAC': 1, 'ATTGTCT': 1, 'GTCCTTG': 1, 'GCTAAAG': 1, 'GCCAGTT': 1, 'TTACATC': 1, 'ATAAAAC': 1, 'GGCGACG': 1, 'TCCCGCA': 1, 'GACTGTT': 1, 'ACTATAG': 1, 'TTCCGGT': 1, 'TTCGATG': 1, 'TGCAAAG': 1, 'TAAGATA': 1, 'TGGAACG': 1}\n"
     ]
    }
   ],
   "source": [
    "import time\n",
    "\n",
    "def randomProjection(k, n, sequences, motifs, motifsSeq):\n",
    "    motifs  = {} \n",
    "    motifsSeq  = {}\n",
    "\n",
    "    lR = getRandomFixePositions(k, n)\n",
    "    lR.sort()\n",
    "    for seq in sequences:\n",
    "        motif = generateKey(lR, seq)\n",
    "        #ajout dans motifs\n",
    "        if motif not in motifs:\n",
    "            motifs[motif] = 1\n",
    "        else:\n",
    "            motifs[motif] += 1\n",
    "        #ajout dans motifsSeq\n",
    "        motifsSeq[seq] = motif\n",
    "\n",
    "    return motifs, motifsSeq\n",
    "\n",
    "start  = time.time()\n",
    "motifs, motifsSeq = randomProjection(k, n, sequences, {}, {})\n",
    "end=time.time()\n",
    "motifsSort = sorted(motifs, reverse=True, key=motifs.get)\n",
    "print(end-start)\n",
    "print (motifsSort)\n",
    "print(motifs) "
   ]
  },
  {
   "cell_type": "markdown",
   "metadata": {},
   "source": [
    "15\\. Avez vous trouvez le motif implanté? Rexécuter l’algorithme plusieurs fois pour le trouver. "
   ]
  },
  {
   "cell_type": "markdown",
   "metadata": {},
   "source": [
    "reponse: oui"
   ]
  },
  {
   "cell_type": "markdown",
   "metadata": {},
   "source": [
    "16\\. Implémenter la version itérative de l’algorithme ``randomProjection``. "
   ]
  },
  {
   "cell_type": "code",
   "execution_count": 19,
   "metadata": {},
   "outputs": [
    {
     "output_type": "stream",
     "name": "stdout",
     "text": [
      "{'AATGGTA': 1, 'TCTTCCA': 1, 'CCAAAAG': 1, 'GAAAAAC': 1, 'CTAGCGA': 1, 'TGCATTC': 1, 'GTCACTC': 1, 'ATCTTAA': 1, 'GTATGCT': 1, 'ACTGATG': 1, 'TGTACTG': 1, 'CTTCTTC': 1, 'AGTTTTT': 1, 'TTCCTTT': 1, 'GAGCCGC': 1, 'TGACGGG': 1, 'TACTAGT': 1, 'TAATGCT': 1, 'CTTAGAG': 1, 'TGGTTTG': 1}\n{'CGCGCCGTAACCATCATTCGTTAGTGCCTGGATGACCCCATATTGCCGTTCGGTAA': 'AATGGTA', 'AGTCCTCCTTGCATGCAGGATGCGAGTTTTACACTGATAACATGGCGTGAGTAATA': 'TCTTCCA', 'TCTTGGAGCCAGACTCCCTTAAGAAACTAATAAATTGGACAGTGACATAACTCTCA': 'CCAAAAG', 'ATCAACGCGTCTAACAGCTGAATGATTCGACTCAGCTGGGACAAGGTGTAAGCATT': 'GAAAAAC', 'GATATAGGCAGCCTATGGGCAATTACCCTGATGCTGAAATGACAAGTCCACAGGTT': 'CTAGCGA', 'CCCACTATTGTCAGTGGGAGCGCTGTACTATCATTCCTATTCTCTTATTGCTCTGC': 'TGCATTC', 'GGCTCAGTGGCGCGCTGTATCCATGGGTAAAACCGCTACGTCTCCGTGCTTATGTC': 'GTCACTC', 'ACTGCTGCAAAAGTTTGTGTCAAAACCTCTAGGTGGAAACAATTACAGTACCTCAT': 'ATCTTAA', 'GCAGACGCGACTGTCTGTCAAAAGCCTAATAGAGACTGCCCTGAGAATATCGCGGA': 'GTATGCT', 'CGTCCCTTAATGCTACGGTTTCTAGTGTGGTTCAACTCCATGGTGATCCTTTCATG': 'ACTGATG', 'TGACTCATTGGTCCAGCATGTAGAGCAAAACAACATACCTTGTGCTTCATGGCGAT': 'TGTACTG', 'TGCTAGGGCAAGGCCTCTAGTGGATTGCGCAAATTGCAAGTCGCGCCGCGAGACCT': 'CTTCTTC', 'GTAAATTCACAGAACGATTCTCGGCTGATTCACTGCCTTGTTTTCCTAGGGCACGG': 'AGTTTTT', 'CTTATTGATTTGGGCTGCTGCTCGACCGGCCTATGGTGCATTCAAGCTCGGGTAGG': 'TTCCTTT', 'TATTTTACGACGATTATCATGAGTACCTACCCCCGAACGCGCCGGGAGCGAGAATT': 'GAGCCGC', 'AATCCGTTTGTTGTCGGACCACAGTTGTACGATGCTGCCTGGTGCGGTCCAATTGT': 'TGACGGG', 'TGGGTTTTTTGGGGCAAGAACGGATCCTGTTATAATTCCAGTGGATCGGGTTCATT': 'TACTAGT', 'CTCGATTGTCTTCGCAGCTAAATATTACGTTCGGAAACATCTTGGAGGCTTATAGT': 'TAATGCT', 'TCAAGGTACCCTGCATTAGGTGAAGCTCCAGTTGTATTCCAGCGTGTAATCGCCGC': 'CTTAGAG', 'TTGAGTTGTCGATCGGTAAGGATACGCACTTACTTTCGGTTGACGTTGCTTTCTCT': 'TGGTTTG'}\n"
     ]
    }
   ],
   "source": [
    "def randomProjIt(sequences, k, n, It):\n",
    "    motifs  = {} \n",
    "    motifsSeq  = {}\n",
    "    i = 0\n",
    "    while i < It:\n",
    "        #on appelle randomProjection\n",
    "        motifs, motifsSeq = randomProjection(k, n, sequences, motifs, motifsSeq)  \n",
    "        i += 1\n",
    "    return motifs, motifsSeq\n",
    "\n",
    "score, seqsMotif = randomProjIt(sequences, k, n, 100)\n",
    "print (score)\n",
    "print(seqsMotif)\n"
   ]
  },
  {
   "cell_type": "markdown",
   "metadata": {},
   "source": [
    "17\\. Tester l'algorithme  ``randomProjection`` sur vos données de chipSeq. Puis générér le LOGO du motif trouvé"
   ]
  },
  {
   "cell_type": "code",
   "execution_count": 24,
   "metadata": {
    "tags": []
   },
   "outputs": [
    {
     "output_type": "stream",
     "name": "stdout",
     "text": [
      "GTGTAGC\nTGCGGAA\nCAGGTCA\nAAAACAT\nCGAACAA\nAACCTCC\nAACACTC\nGCATTAC\nATAATGT\nGCGATTG\nAATCATA\nGTTACTC\nTAGAATC\nATTTGAC\nTTGGTTG\nTGAGGAA\nCGCCTTT\nATCTAGT\nCCTTGAA\nAAGAACA\nTTCCTTG\nTGAATAT\nGAGAATA\nTCTATGC\nAGTAACC\nTGTCAAA\nCAATTTC\nGCAGCAT\nGTTCAAG\nTTTAGAG\nGTTTCTT\nCCCTATC\nATTCGTC\nCGTTGCG\nAGACCTC\nAAGGTGA\nGCCCTCC\nTCCGAGG\nGAGTATA\nGGGGGAG\nCAATTGT\nAATCTGT\nTCCAGTG\nATGCATT\nATACACC\nTCCGCAG\nATATGAG\nATGTAAG\nTAATTGT\nTGTACTG\nTTTGGGT\nGATGTAA\nTTGATAC\nCTCTGAG\nATTAAAA\nGCACGTG\nTTCAGTT\nCTAGATT\nAGTATAT\nCTCAATG\nCCAGTAT\nGCGGTCC\nGATAACG\nCGGTTAC\nTATCAAT\nCTCCCTA\nTCGGTCA\nATATGCA\nCTCGCAA\nTGCGAAA\nGCCAAAG\nTACTGTG\nTAATAGT\nAACTCCC\nCCCTGGC\nCTATAAG\nGAGGCTA\nCTATAAA\nATATCGT\nTTATCAT\nTGTTGGA\nAATCCCA\nCCCTTCA\nTTCTAAG\nTCTGGAG\nCTAGATT\nACTTGAG\nAAGCGGT\nTAGATAA\nTCAGCGA\nGACTCAT\nAATAAAA\nGTGGCGA\nTGAGACG\nGCTTCGC\nATTCGTC\nGTTCTCT\nCATATGT\nCGTATGA\nGGTCGTA\nTCGGGCG\nCTGTCTA\nAAAGATC\nGCTGACG\nTGGGCTG\nAGGGCGA\nGAGGGGT\nTGAAAAG\nAACAAGC\nGTATATA\nGGAGTCA\nCCCATAG\nCTCCGTT\nATGCATG\nTTTAACG\nTAAGTAC\nAGCATTG\nGACGTTA\nTTGAGAC\nTATGGAA\nGCTATAC\nGAAAAAG\nTATTTGC\nATGGCTG\nTAGTAAG\nTTCATTC\nGGTAATT\nTCACACA\nTTCACTT\nGAAGTAG\nAGGGAAC\nGTTTCTT\nAGTAACA\nTGAATAT\nTACCAGA\nATACTTT\nAAAATTA\nCGCAACT\nTAGATCT\nTTGTCGG\nCGGCATA\nGTGTTTG\nATAGTCT\nAGAATTT\nGCATTTT\nTTTTTAA\nACGATGC\nATTGGAT\nAGCTACA\nATAGCGA\nGAAATTA\nTACGATC\nATAGTAG\nTTAATTT\nTCTACAT\nAGGTCTA\nCTAATTT\nTCAAAGA\nAACCTAA\nATCATAA\nCATAGGA\nAAGTTTT\nGCACGGC\nTCCCCAT\nGCGAACC\nGTGGGGA\nGATTAAT\nACTATTA\nGAATTAT\nATTTATG\nATAAGAT\nTTAACAC\nTAAAAGA\nAATCATG\nATGAAAG\nATTATAT\nAATCTCG\nAAACCAA\nATATTGT\nGAGGGCT\nGAGTGTT\nTAGTTCT\nAAAGGCA\nAACTAGC\nGTTGATA\nCAATTCT\nAGATAAC\nACTATAC\nAATCACT\nCGTCTCA\nTCCGGAC\nCAAGTGC\nGGGCTTT\nCTTCCTG\nGCGATAG\nGAAAAGA\nAAATCTT\nCTTCAAC\nTTAACAT\nGTTCGCA\nTGTATAG\nAAGTCCC\nAGAATTT\nAGCAATC\nTCAATGT\nAGGAATT\nGCTTTTC\nATTCATG\nCTTAAAG\nAATTTAG\nTAATAAG\nCGTGTTT\nCAATTCG\nGATGAGA\nTTAATTT\nACGTAAA\nAATTCTA\nCTGACGA\nACTCAAT\nGAGAAAA\nGATAGAA\nACAAGGG\nCTATTGC\nCTCACTG\nTTGTCAT\nTATACTC\nAATACAT\nTCCCCCT\nGCTGGTT\nATGAAAT\nAGTTTAA\nAACCTTA\nGCATGTA\nTGCCTAT\nAATTCCT\nGAAGGCT\nAGAAAAT\nATGTTAA\nCAAAGAT\nTATTTTG\nCAGGATA\nTTTAATC\nGTAGAAT\nTTAAACC\nAAATGGG\nGCATATT\nACCGTTT\nAGCTATA\nACCATGA\nGGTATTA\nAATTCGC\nATTCCGC\nTTTGCCT\nGCTCTTG\nTTCGAGT\nCACATCG\nAACAAAA\nATACATT\nTGAAATC\nAAAAAAT\nCAATGCT\nCTATTTA\nGGCTTAT\nATAGTTT\nCATCTGA\nGATTCAA\nCACAACT\nGTCTGCA\nCGAAACC\nCATCTTT\nAATACCT\nACCGTTT\nCAGATTT\nGATTTTG\nGAAAAGA\nTATTTAA\nTTATTGC\nAACAAGT\nACCACCG\nGAGTATA\nTAAATCG\nTAGTGAG\nTACCGTA\nAGACTGT\nGTGTAAG\nTTTAATT\nTTATTCT\nTTGTCGT\nCTTCTTT\nACCCATC\nTTGCTTG\nATTTTAA\nCGATGCG\nCAATAGT\nTAAGTTG\nTTTCTTC\nAATTATG\nGAAGAGG\nATAATTA\nTTCCGAG\nCACGCCT\nTTTCATG\nTGTATTG\nTGCTAAA\nTTTGGAT\nGAAAGCA\nCACGAAG\nTAAACCG\nGAAACAA\nACTTTTT\nTTTTATC\nTAATATA\nTAATAAT\nCCCCTTA\nCTCCTTG\nTACCCGT\nTGGAGTT\nGCAGCTC\nGTCCGCC\nGTATTGA\nCTTAAAG\nCTAATGT\nCCACCTA\nGAATCAG\nAAGACCT\nGGAAATA\nCTTATAG\nAAGAAAT\n"
     ]
    }
   ],
   "source": [
    "k=7; n=80\n",
    "sequencesChip = readFasta(genome, n)\n",
    "score, seqsMotif = randomProjIt(sequencesChip[0:len(sequencesChip) - 2], k, n, 100)\n",
    "#print (score)\n",
    "#print(seqsMotif)\n",
    "liste_motif = []\n",
    "with open('motifsRandProj.fasta', 'w') as file :\n",
    "    for seq, motif in seqsMotif.items():\n",
    "        liste_motif.append(motif)\n",
    "        #print(motif)\n",
    "        #file.write(motif+\"\\n\")"
   ]
  },
  {
   "cell_type": "code",
   "execution_count": null,
   "metadata": {},
   "outputs": [],
   "source": []
  }
 ],
 "metadata": {
  "celltoolbar": "Raw Cell Format",
  "kernelspec": {
   "name": "python394jvsc74a57bd03729a6ff7676ad95e807d2f5f3db9a400fbe0daa61d45f8837682fe7ac233198",
   "display_name": "Python 3.9.4 64-bit"
  },
  "language_info": {
   "codemirror_mode": {
    "name": "ipython",
    "version": 3
   },
   "file_extension": ".py",
   "mimetype": "text/x-python",
   "name": "python",
   "nbconvert_exporter": "python",
   "pygments_lexer": "ipython3",
   "version": "3.9.4"
  },
  "metadata": {
   "interpreter": {
    "hash": "3729a6ff7676ad95e807d2f5f3db9a400fbe0daa61d45f8837682fe7ac233198"
   }
  }
 },
 "nbformat": 4,
 "nbformat_minor": 2
}