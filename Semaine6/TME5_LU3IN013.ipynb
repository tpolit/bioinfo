{
 "cells": [
  {
   "cell_type": "markdown",
   "metadata": {},
   "source": [
    "# TME 5 : Mini-projet Detection de motifs\n",
    "\n",
    "\n",
    "## Recheche de pattern (motifs) en permettant des variations\n",
    "\n",
    "Les motifs que nous cherchons dans les sequences d'ADN peuvent contenir quelques variations ou mutations. Nous allons developpé dans cet partie differents algoritmes pour la recherche de motifs variables. "
   ]
  },
  {
   "cell_type": "markdown",
   "metadata": {},
   "source": [
    "1\\. Comme dans le TME4, nous alons d'abord générer des données atificielles pour pouvoir tester les algorithmes. Faites une fonction pour générer `t` séquences artificielles de taille `n`. Implantez dans chaque séquence un motif de taille `k` à des positions aléatoires avec `v` substitutions choisies aléatoirement."
   ]
  },
  {
   "cell_type": "code",
   "execution_count": 1,
   "metadata": {},
   "outputs": [
    {
     "output_type": "stream",
     "name": "stdout",
     "text": [
      "['ACTAATTAAGCCG', 'GCTTGGAACATAT', 'AATGTATAAACAA']\n"
     ]
    }
   ],
   "source": [
    "import random\n",
    "import numpy as np\n",
    "\n",
    "nuc = ('A', 'C', 'G', 'T')\n",
    "\n",
    "k=4 #taille de motif\n",
    "v=1 #nb de positions variable dans le motif\n",
    "t=3 #nb de sequences\n",
    "n=10 #longuer des sequence\n",
    "q = 4\n",
    "\n",
    "def generateRandomSequences(n, t):\n",
    "    sequences = []\n",
    "    i = 0\n",
    "    j = 0\n",
    "    while i < t:\n",
    "        seq = \"\"\n",
    "        while j < n:\n",
    "            seq = seq+nuc[random.randint(0,3)]\n",
    "            j += 1\n",
    "        sequences.append(seq)\n",
    "        i += 1\n",
    "        j = 0\n",
    "   \n",
    "    return sequences\n",
    "\n",
    "# RENVOIE UNE LISTE DE LISTE DE MOTIFS...\n",
    "def generateMotifs(k, nM):\n",
    "    return [generateRandomSequences(k, True) for rs in range(nM)]\n",
    "\n",
    "def gen_n_substitMotifs(v, k, t):\n",
    "    motifs = generateMotifs(k, t)\n",
    "    motifs_res = []\n",
    "    for motif in motifs:\n",
    "        lettre_motif = list(motif[0])\n",
    "        j = 0\n",
    "        while j < v:\n",
    "            lettre_motif[random.randint(0, k - 1)] = nuc[random.randint(0,3)]\n",
    "            motif_add = ''.join(lettre_motif)\n",
    "            motifs_res.append(motif_add)\n",
    "            j+=1\n",
    "    return motifs_res\n",
    "    \n",
    "def implantMotifVar(k, v, t, n):\n",
    "    #sequences aleatoires\n",
    "    sequences = generateRandomSequences(n, t)\n",
    "    motifs = gen_n_substitMotifs(v, k, t)\n",
    "    modified_sequences = []\n",
    "    i = 0\n",
    "    while i < t:\n",
    "        seq = sequences[i]\n",
    "        motif = motifs[i]\n",
    "        rand_pos = random.randint(0,len(seq))\n",
    "        seq = seq[0:rand_pos] + motif + seq[rand_pos+1:len(seq)]\n",
    "        modified_sequences.append(seq)\n",
    "        i+=1\n",
    "    return modified_sequences\n",
    "\n",
    "motifs = gen_n_substitMotifs(v, k, t)\n",
    "sequences = implantMotifVar(k, v, t, n)\n",
    "print(sequences)\n"
   ]
  },
  {
   "cell_type": "markdown",
   "metadata": {},
   "source": [
    "2\\. Visualisation de motifs. Nous pouvons visualiser les motifs à l'aide des outils de LOGO https://weblogo.berkeley.edu/logo.cgi. Executer votre fonction de generation de motif variable, extraire les motifs et visualise-le à l'aide de webLogo. Utiliser les parametre ci-dessous.\n"
   ]
  },
  {
   "cell_type": "code",
   "execution_count": 2,
   "metadata": {},
   "outputs": [],
   "source": [
    "k=8  #taille de motif\n",
    "v=2  #nb de positions variable dans le motif\n",
    "t=10 #nb de sequences\n",
    "n=10 #longuer des sequence"
   ]
  },
  {
   "cell_type": "code",
   "execution_count": 3,
   "metadata": {},
   "outputs": [
    {
     "output_type": "stream",
     "name": "stdout",
     "text": [
      "['CCGGCCCT', 'CCGGCCCT', 'TCTGGTTG', 'TCCGGTTG', 'GCATCCCG', 'GCGTCCCG', 'ATGGTAGT', 'ATGGTAGC', 'GACTATTG', 'GACTATTG', 'AATCAGTA', 'AATCAGTA', 'CATTTTTT', 'CATTTTTT', 'ATAGGAAA', 'ATGGGAAA', 'TCCGTTAT', 'TCTGTTAT', 'ATGCCTGC', 'ATGTCTGC']\n['TCGAATTCTCAGTTAGG', 'TATAAATTATCAACTCA', 'GATGCCGGTGACCTGGT', 'TTGACCTGGTAACATCA', 'GAATGCTGCTCCTCCTG', 'CATCGCAACAGCTCCTCC', 'GCAAACGAGAGTGGATT', 'CATGACGTTCAAATGAG', 'CTCACCGGTTCTCCTTG', 'TCGGGGTTCTACTTGAC']\n"
     ]
    }
   ],
   "source": [
    "motifs = gen_n_substitMotifs(v, k, t)\n",
    "sequences = implantMotifVar(k, v, t, n)\n",
    "print(motifs)\n",
    "print (sequences)\n",
    "with open(\"motifs_generated.txt\",\"w\") as file:\n",
    "    for motif in motifs:\n",
    "        file.write(\"{}\\n\".format(motif))"
   ]
  },
  {
   "cell_type": "markdown",
   "metadata": {},
   "source": [
    "3\\. Préparation pour l'algorithme _\"Brute Force Motif Search\"_. Avant d'implementer  l'algorithme _\"Brute Force Motif Search\"_, faites une fonction pour calculer le score `score(s, seqs)`, où `s` est un ensemble de position initiales `s`$=(s_1,s_2,...,s_k)$  et `seqs` est une matrice de taille `t x n`  (`t` est le nombre de séquences et `n` la taille de ces séquences), pour tester votre fonction utiliser la matrice et les valeurs ci-dessous (voir aussi les slides du cours).\n"
   ]
  },
  {
   "cell_type": "code",
   "execution_count": 17,
   "metadata": {},
   "outputs": [
    {
     "output_type": "stream",
     "name": "stdout",
     "text": [
      "ACGTACGT\n36.0\n"
     ]
    }
   ],
   "source": [
    "\n",
    "\n",
    "\n",
    "k = 8  # taille de motif\n",
    "n = 68 #longuer des sequence\n",
    "t = 5  #nb de sequences\n",
    "\n",
    "s=(25,20,2,55,59)\n",
    "\n",
    "seqs = [\n",
    "'CCTGATAGACGCTATCTGGCTATCCACGTACATAGGTCCTCTGTGCGAATCTATGCGTTTCCAACCAT',\n",
    "'AGTACTGGTGTACATTTGATACGTACGTACACCGGCAACCTGAAACAAACGCTCAGAACCAGAAGTGC',\n",
    "'AAAAGTCCGTGCACCCTCTTTCTTCGTGGCTCTGGCCAACGAGGGCTGATGTATAAGACGAAAATTTT',\n",
    "'AGCCTCCGATGTAAGTCATAGCTGTAACTATTACCTGCCACCCCTATTACATCTTACGTACGTATACA',\n",
    "'CTGTTATACAACGCGTCATGGCGGGGTATGCGTTTTGGTCGTCGTACGCTCGATCGTTAACGTAGGTC'\n",
    "]\n",
    "\n",
    "corresp = {0:\"A\", 1:\"C\", 2:\"G\", 3:\"T\"}\n",
    "\n",
    "\n",
    "\n",
    "#extract sequences from seqs\n",
    "def extractSeqs(s, seqs):\n",
    "    motifs = []\n",
    "    i = 0\n",
    "    for start in s:\n",
    "        seq = seqs[i]\n",
    "        motif = seq[start:start+k]\n",
    "        motifs.append(motif)\n",
    "        i+=1\n",
    "    return motifs\n",
    "\n",
    "#construct Profiles\n",
    "def profile(motifs, k, t, q):\n",
    "    PWM = np.zeros((q, k))\n",
    "    for motif in motifs:\n",
    "        i = 0\n",
    "        while i < len(motif):\n",
    "            l = motif[i]\n",
    "            if l == 'A':\n",
    "                PWM[0][i] += 1\n",
    "            if l == 'C':\n",
    "                PWM[1][i] += 1\n",
    "            if l == 'G':\n",
    "                PWM[2][i] += 1\n",
    "            if l == 'T':\n",
    "                PWM[3][i] += 1\n",
    "            i += 1\n",
    "    return PWM\n",
    "\n",
    "\n",
    "def score(s, seqs):\n",
    "    sc = 0\n",
    "    motifs = extractSeqs(s, seqs)\n",
    "    profile_ = profile(motifs, k, t, q)\n",
    "    i = 0\n",
    "    j = 0\n",
    "    base = ''\n",
    "    consensus = \"\"\n",
    "    while j < len(profile_[i]):\n",
    "        max_ = 0\n",
    "        while i < len(profile_):\n",
    "            if profile_[i][j] > max_:\n",
    "                max_ = profile_[i][j]\n",
    "                base = corresp[i]\n",
    "            i += 1\n",
    "        sc += max_\n",
    "        consensus += base\n",
    "        i = 0\n",
    "        j += 1\n",
    "    return consensus, sc\n",
    "\n",
    "consensus, sc = score(s, seqs)\n",
    "print(consensus)\n",
    "print(sc)\n",
    "\n"
   ]
  },
  {
   "cell_type": "markdown",
   "metadata": {},
   "source": [
    "4\\. Implementer l'algoritme _\"Brute Force Motif Search\"_ pour chercher des motifs de taille variable. Attention, la complexité de cet algorithme est trop importante, car il enumère toutes les positions intiales possibles, nous allons donc le tester seulement sur de petits jeux de données."
   ]
  },
  {
   "cell_type": "code",
   "execution_count": 18,
   "metadata": {},
   "outputs": [],
   "source": [
    "from itertools import product\n",
    "\n",
    "k=4; v=1; t=3; n=10\n",
    "#enumeration all initial positions\n",
    "def initialPosition(k, n, t):\n",
    "\tiniPos = []\n",
    "\tallIniPos = []\n",
    "\tfor i in range(0, n-k+1):\n",
    "\t\tiniPos.append(i)\n",
    "        \n",
    "\tfor subset in product(iniPos, repeat=t):\n",
    "\t\tallIniPos.append(subset)\n",
    "\treturn allIniPos\n",
    "\n",
    "#Pour tester la generation de positions\n",
    "#print(initialPosition(k, n, t))"
   ]
  },
  {
   "cell_type": "code",
   "execution_count": 19,
   "metadata": {},
   "outputs": [
    {
     "output_type": "stream",
     "name": "stdout",
     "text": [
      "['CATCGTAATTGAG', 'GCATGAGCTCAGC', 'ACACATCAGCCCT']\nCATC 11.0\ndurée exec bruteForce = 0.006499767303466797\n"
     ]
    }
   ],
   "source": [
    "import time\n",
    "def bruteForceMotifSearch(sequences, t, n, k):\n",
    "\tbestscore = 0; bestMotif=''\n",
    "\tallIniPos = initialPosition(k, n, t)\n",
    "\tfor starts in allIniPos:\n",
    "\t\tconsensus, score_act = score(starts, sequences)\n",
    "\t\tif score_act > bestscore:\n",
    "\t\t\tbestscore = score_act\n",
    "\t\t\tbestMotif = consensus\n",
    "\n",
    "\treturn  bestMotif, bestscore\n",
    "\n",
    "#test\n",
    "k=4; v=1; t=3; n=10\n",
    "motifs = gen_n_substitMotifs(v, k, t)\n",
    "sequences = implantMotifVar(k, v, t, n)\n",
    "print (sequences)\n",
    "start = time.time()\n",
    "bestMotif, bestscore = bruteForceMotifSearch(sequences, t, n, k)\n",
    "end = time.time()\n",
    "print (bestMotif, bestscore)\n",
    "print(\"durée exec bruteForce = {}\".format(end - start))"
   ]
  },
  {
   "cell_type": "markdown",
   "metadata": {},
   "source": [
    "5\\. L'algorithme est-il performant sur ce jeu de données ? Sinon, pourquoi ?"
   ]
  },
  {
   "cell_type": "markdown",
   "metadata": {},
   "source": [
    "<font color='white'>\n",
    "réponse: Oui il semble performant vu que les donnees sont de taille reduite\n",
    "</font>"
   ]
  },
  {
   "cell_type": "markdown",
   "metadata": {},
   "source": [
    "6\\. Tester l'agorithme avec les paramètres suivants `k=7`, `v=1`, `t=5`, et `n=20`. Avez vous de meilleurs performances ?"
   ]
  },
  {
   "cell_type": "code",
   "execution_count": 22,
   "metadata": {},
   "outputs": [
    {
     "output_type": "stream",
     "name": "stdout",
     "text": [
      "['GTATGCGCCGAAGCTATTAATCGTCG', 'TCTTAACCTATCGAGACACGTTTGTC', 'CTCAAACTGTTTGGGGCGCTGCTCGT', 'ATAGTACTTCCAGTACGTCTATGCGT', 'CAAGCCGTCTTTGTGGATAACGGAAT']\n",
      "AAACTAT 26.0\n",
      "durée exec bruteForce = 19.726464986801147\n"
     ]
    }
   ],
   "source": [
    "k=7; v=1; t=5; n=20\n",
    "\n",
    "sequences = implantMotifVar(k, v, t, n)\n",
    "print (sequences)\n",
    "start = time.time()\n",
    "bestMotif, bestscore = bruteForceMotifSearch(sequences, t, n, k)\n",
    "end = time.time()\n",
    "print (bestMotif, bestscore)\n",
    "print(\"durée exec bruteForce = {}\".format(end - start))\n",
    "\n",
    "# non, c'est bien plus long et c'est logique vu que les donnees sont plus importantes\n"
   ]
  },
  {
   "cell_type": "markdown",
   "metadata": {},
   "source": [
    "7\\. Implémentez l'algorithme _\"Median String Search\"_ pour chercher des motifs de taille variable. Tester le sur les mêmes jeux de données que la question 3 (voir slides de cours). Vous devez éliminer les motifs peu complexe pour éviter les calculs inutiles."
   ]
  },
  {
   "cell_type": "code",
   "execution_count": 23,
   "metadata": {},
   "outputs": [
    {
     "output_type": "stream",
     "name": "stdout",
     "text": [
      "[['CCTGATA', 'CTGATAG', 'TGATAGA', 'GATAGAC', 'ATAGACG', 'TAGACGC', 'AGACGCT', 'GACGCTA', 'ACGCTAT', 'CGCTATC', 'GCTATCT', 'CTATCTG', 'TATCTGG', 'ATCTGGC', 'TCTGGCT', 'CTGGCTA', 'TGGCTAT', 'GGCTATC', 'GCTATCC', 'CTATCCA', 'TATCCAC', 'ATCCACG', 'TCCACGT', 'CCACGTA', 'CACGTAC', 'ACGTACA', 'CGTACAT', 'GTACATA', 'TACATAG', 'ACATAGG', 'CATAGGT', 'ATAGGTC', 'TAGGTCC', 'AGGTCCT', 'GGTCCTC', 'GTCCTCT', 'TCCTCTG', 'CCTCTGT', 'CTCTGTG', 'TCTGTGC', 'CTGTGCG', 'TGTGCGA', 'GTGCGAA', 'TGCGAAT', 'GCGAATC', 'CGAATCT', 'GAATCTA', 'AATCTAT', 'ATCTATG', 'TCTATGC', 'CTATGCG', 'TATGCGT', 'ATGCGTT', 'TGCGTTT', 'GCGTTTC', 'CGTTTCC', 'GTTTCCA', 'TTTCCAA', 'TTCCAAC', 'TCCAACC', 'CCAACCA', 'CAACCAT'], ['AGTACTG', 'GTACTGG', 'TACTGGT', 'ACTGGTG', 'CTGGTGT', 'TGGTGTA', 'GGTGTAC', 'GTGTACA', 'TGTACAT', 'GTACATT', 'TACATTT', 'ACATTTG', 'CATTTGA', 'ATTTGAT', 'TTTGATA', 'TTGATAC', 'TGATACG', 'GATACGT', 'ATACGTA', 'TACGTAC', 'ACGTACG', 'CGTACGT', 'GTACGTA', 'TACGTAC', 'ACGTACA', 'CGTACAC', 'GTACACC', 'TACACCG', 'ACACCGG', 'CACCGGC', 'ACCGGCA', 'CCGGCAA', 'CGGCAAC', 'GGCAACC', 'GCAACCT', 'CAACCTG', 'AACCTGA', 'ACCTGAA', 'CCTGAAA', 'CTGAAAC', 'TGAAACA', 'GAAACAA', 'AAACAAA', 'AACAAAC', 'ACAAACG', 'CAAACGC', 'AAACGCT', 'AACGCTC', 'ACGCTCA', 'CGCTCAG', 'GCTCAGA', 'CTCAGAA', 'TCAGAAC', 'CAGAACC', 'AGAACCA', 'GAACCAG', 'AACCAGA', 'ACCAGAA', 'CCAGAAG', 'CAGAAGT', 'AGAAGTG', 'GAAGTGC'], ['AAAAGTC', 'AAAGTCC', 'AAGTCCG', 'AGTCCGT', 'GTCCGTG', 'TCCGTGC', 'CCGTGCA', 'CGTGCAC', 'GTGCACC', 'TGCACCC', 'GCACCCT', 'CACCCTC', 'ACCCTCT', 'CCCTCTT', 'CCTCTTT', 'CTCTTTC', 'TCTTTCT', 'CTTTCTT', 'TTTCTTC', 'TTCTTCG', 'TCTTCGT', 'CTTCGTG', 'TTCGTGG', 'TCGTGGC', 'CGTGGCT', 'GTGGCTC', 'TGGCTCT', 'GGCTCTG', 'GCTCTGG', 'CTCTGGC', 'TCTGGCC', 'CTGGCCA', 'TGGCCAA', 'GGCCAAC', 'GCCAACG', 'CCAACGA', 'CAACGAG', 'AACGAGG', 'ACGAGGG', 'CGAGGGC', 'GAGGGCT', 'AGGGCTG', 'GGGCTGA', 'GGCTGAT', 'GCTGATG', 'CTGATGT', 'TGATGTA', 'GATGTAT', 'ATGTATA', 'TGTATAA', 'GTATAAG', 'TATAAGA', 'ATAAGAC', 'TAAGACG', 'AAGACGA', 'AGACGAA', 'GACGAAA', 'ACGAAAA', 'CGAAAAT', 'GAAAATT', 'AAAATTT', 'AAATTTT'], ['AGCCTCC', 'GCCTCCG', 'CCTCCGA', 'CTCCGAT', 'TCCGATG', 'CCGATGT', 'CGATGTA', 'GATGTAA', 'ATGTAAG', 'TGTAAGT', 'GTAAGTC', 'TAAGTCA', 'AAGTCAT', 'AGTCATA', 'GTCATAG', 'TCATAGC', 'CATAGCT', 'ATAGCTG', 'TAGCTGT', 'AGCTGTA', 'GCTGTAA', 'CTGTAAC', 'TGTAACT', 'GTAACTA', 'TAACTAT', 'AACTATT', 'ACTATTA', 'CTATTAC', 'TATTACC', 'ATTACCT', 'TTACCTG', 'TACCTGC', 'ACCTGCC', 'CCTGCCA', 'CTGCCAC', 'TGCCACC', 'GCCACCC', 'CCACCCC', 'CACCCCT', 'ACCCCTA', 'CCCCTAT', 'CCCTATT', 'CCTATTA', 'CTATTAC', 'TATTACA', 'ATTACAT', 'TTACATC', 'TACATCT', 'ACATCTT', 'CATCTTA', 'ATCTTAC', 'TCTTACG', 'CTTACGT', 'TTACGTA', 'TACGTAC', 'ACGTACG', 'CGTACGT', 'GTACGTA', 'TACGTAT', 'ACGTATA', 'CGTATAC', 'GTATACA'], ['CTGTTAT', 'TGTTATA', 'GTTATAC', 'TTATACA', 'TATACAA', 'ATACAAC', 'TACAACG', 'ACAACGC', 'CAACGCG', 'AACGCGT', 'ACGCGTC', 'CGCGTCA', 'GCGTCAT', 'CGTCATG', 'GTCATGG', 'TCATGGC', 'CATGGCG', 'ATGGCGG', 'TGGCGGG', 'GGCGGGG', 'GCGGGGT', 'CGGGGTA', 'GGGGTAT', 'GGGTATG', 'GGTATGC', 'GTATGCG', 'TATGCGT', 'ATGCGTT', 'TGCGTTT', 'GCGTTTT', 'CGTTTTG', 'GTTTTGG', 'TTTTGGT', 'TTTGGTC', 'TTGGTCG', 'TGGTCGT', 'GGTCGTC', 'GTCGTCG', 'TCGTCGT', 'CGTCGTA', 'GTCGTAC', 'TCGTACG', 'CGTACGC', 'GTACGCT', 'TACGCTC', 'ACGCTCG', 'CGCTCGA', 'GCTCGAT', 'CTCGATC', 'TCGATCG', 'CGATCGT', 'GATCGTT', 'ATCGTTA', 'TCGTTAA', 'CGTTAAC', 'GTTAACG', 'TTAACGT', 'TAACGTA', 'AACGTAG', 'ACGTAGG', 'CGTAGGT', 'GTAGGTC']]\n"
     ]
    }
   ],
   "source": [
    "#generer les k-mers valid\n",
    "def kmers(sequences, k):\n",
    "    validkmers = [] # liste qui va contenir une liste des motifs possibles sur la sequence en fonction de la position de depart\n",
    "    for seq in sequences:\n",
    "        kmer_seq = []\n",
    "        i = 0\n",
    "        while i < (len(seq) - k + 1):\n",
    "            kmer_seq.append(seq[i: i + k]) # on ajoute chaque motif de taille k\n",
    "            i += 1\n",
    "        validkmers.append(kmer_seq) # on ajoute la liste de liste de motifs a la liste que l'on retourne\n",
    "    return validkmers\n",
    "\n",
    "validkmers = kmers(seqs, k)\n",
    "print(validkmers)\n"
   ]
  },
  {
   "cell_type": "code",
   "execution_count": 25,
   "metadata": {
    "tags": []
   },
   "outputs": [
    {
     "output_type": "stream",
     "name": "stdout",
     "text": [
      "Meilleur motif : ACGTACGT distance : 4\n"
     ]
    }
   ],
   "source": [
    "#Voir photo jointe pour comprendre hamdist et totaldistance\n",
    "#hamdist est le nombre de paires de nucleotides qui ne correspondent pas lorsque v et x sont alignes\n",
    "def hamdist(v, x):\n",
    "\t\"\"\"\n",
    "\thyp : v et x sont de meme taille\n",
    "\t\"\"\"\n",
    "\tif len(v) != len(x):\n",
    "\t\tprint(\"Erreur : v et x de taille diff\\n\")\n",
    "\t\treturn -1\n",
    "\tv = v.upper() # on remet en maj les string\n",
    "\tx = x.upper()\n",
    "\tdiffs = 0\n",
    "\ti = 0\n",
    "\twhile i < len(v):\n",
    "\t\tif v[i] != x[i]: # si deux lettres different a un endroit on incremente diff\n",
    "\t\t\tdiffs += 1\n",
    "\t\ti += 1\n",
    "\n",
    "\treturn diffs\n",
    "\n",
    "#totaldistance est la somme des hamdist minimales d'un motif pour chaque sequence \n",
    "def totalDistance(motif, sequences, k):\n",
    "\ttd = 0\n",
    "\tvalid_kmers = kmers(sequences, k)\n",
    "\tfor kmer_seq in valid_kmers:\n",
    "\t\tmin_diffs = k + 1 # variable permettant de comparer les hamdist minimales entre chaque kmer, on l'ajoute a td a chaque nouvelle sequence\n",
    "\t\tdiffs = []\n",
    "\t\tfor kmer in kmer_seq: \n",
    "\t\t\tdiffs.append(hamdist(motif, kmer)) # on stocke toutes les valeurs dans une liste pour avoir le min a la fin\n",
    "\t\tif min(diffs) < min_diffs:\n",
    "\t\t\tmin_diffs = min(diffs) # on recupere le minimum de la liste diffs si il est plus petit que pour les kmers qui commencaient a une position differente\n",
    "\t\t\n",
    "\t\ttd += min_diffs\n",
    "\t\t\t\t\n",
    "\treturn td\n",
    "\n",
    "def MedianStringSearch(allkmers, sequences, t, n, k):\n",
    "\tbestDistance = 1000\n",
    "\tbestMotif = \"\"\n",
    "\tmotifDist = {} #all motifs found\n",
    "\tfor kmer_seq in allkmers: #on parcours l'ensemble des kmers\n",
    "\t\tfor motif in kmer_seq:\t#pour récuperer ensuite chaque motif possible\n",
    "\t\t\tdist=totalDistance(motif,sequences,k) #on mesure alors la distance sur l'ensemble des séquences\n",
    "\t\t\tif dist<bestDistance: #on compare alors cette distance avec la meilleure distance alors obtenue\n",
    "\t\t\t\tbestDistance=dist #on réaffecte les meilleurs résultats si le motif étudié a un meille score\n",
    "\t\t\t\tbestMotif=motif\n",
    "\t\t\tmotifDist[motif]=dist #on ajoute ensuite le motif et la distance associée au dictionnaire\n",
    "\treturn bestMotif, bestDistance, motifDist\n",
    "\n",
    "#teste, td = 4\n",
    "k = 8\n",
    "\"\"\"\n",
    "print(sequences)\n",
    "td = totalDistance(\"acgtacgt\", sequences, k)\n",
    "print (td)\n",
    "\"\"\"\n",
    "validkmers = kmers(seqs, k)\n",
    "bestMotif, bestDistance, motifDist = MedianStringSearch(validkmers, seqs, t, n, k)\n",
    "print (\"Meilleur motif : \"+bestMotif+\" distance : \"+'{}'.format(bestDistance))\n"
   ]
  },
  {
   "cell_type": "markdown",
   "metadata": {},
   "source": [
    "8\\. Comparation entre les algorithmes _\"Median String Search\"_ et \"_Brute Force Motif Search_\""
   ]
  },
  {
   "cell_type": "markdown",
   "metadata": {},
   "source": [
    "a\\. Produire des séquences artificielles avec les paramètres suivants  `k=7`, `v=1`, `t=5`, `n=20`. Comparer les performance et le temps de calculs des deux algorithmes."
   ]
  },
  {
   "cell_type": "code",
   "execution_count": 11,
   "metadata": {},
   "outputs": [
    {
     "output_type": "stream",
     "name": "stdout",
     "text": [
      "Durée de l'algorithme BruteForce : 31.689541578292847s \nDurée de l'aglorithme MedianStringSearch : 0.0s\n"
     ]
    }
   ],
   "source": [
    "k=7; v=1; t=5; n=20\n",
    "\n",
    "sequence_artif = generateRandomSequences(n,t)\n",
    "\n",
    "start=time.time()\n",
    "BFBestMotif,BFBestScore=bruteForceMotifSearch(sequence_artif,t,n,k)\n",
    "end=time.time()\n",
    "BFTime=end-start\n",
    "\n",
    "start=time.time()\n",
    "MSSkmers=kmers(sequence_artif,k)\n",
    "MSSBestMotif,MSSBestDIstance,MSSMotifDist = MedianStringSearch(MSSkmers,sequence_artif,t,n,k)\n",
    "end=time.time()\n",
    "MSSTime=end-start\n",
    "\n",
    "print(\"Durée de l'algorithme BruteForce : {}s \\nDurée de l'aglorithme MedianStringSearch : {}s\".format(BFTime,MSSTime))"
   ]
  },
  {
   "cell_type": "markdown",
   "metadata": {},
   "source": [
    "b\\. Quel algorithme peut etre appliqué au probleme de recherche de motifs? Et comment?"
   ]
  },
  {
   "cell_type": "markdown",
   "metadata": {},
   "source": [
    "<font color='lightblue'>\n",
    "réponse: L'algorithme MedianStringSearch peut être appliqué au problème de recherche de motifs car il est efficace, pour l'implémenter il suffit d'avoir les sequences que l'ont souhaite analyser\n",
    "</font>"
   ]
  },
  {
   "cell_type": "code",
   "execution_count": 14,
   "metadata": {
    "tags": []
   },
   "outputs": [
    {
     "output_type": "stream",
     "name": "stdout",
     "text": [
      "330\n"
     ]
    }
   ],
   "source": [
    "k=7; n=80\n",
    "\n",
    "def readFasta(genome, n):\n",
    "    sequence = []\n",
    "    file = open(genome, \"r\")\n",
    "    sequence = []\n",
    "    for s in file:\n",
    "        if s[0] != \">\":\n",
    "            sequence.append(s.strip().upper())\n",
    "    sequenceStr = \"\".join(sequence)\n",
    "    #sequence = [sequenceStr]\n",
    "    sequence = [sequenceStr[i:i+n] for i in range(0, len(sequenceStr), n)]\n",
    "    return sequence\n",
    "\n",
    "genome = \"./Sequence_by_Peaks_6.fasta\"\n",
    "\n",
    "sequences   = readFasta(genome, n)\n",
    "\n",
    "t = len(sequences)\n",
    "print(t)\n",
    "start=time.time()\n",
    "MSSkmers=kmers(sequences,k)\n",
    "MSSBestMotif,MSSBestDIstance,MSSMotifDist = MedianStringSearch(MSSkmers,sequences,t,n,k)\n",
    "end=time.time()\n",
    "MSSTime=end-start\n"
   ]
  },
  {
   "cell_type": "code",
   "execution_count": null,
   "metadata": {},
   "outputs": [],
   "source": []
  }
 ],
 "metadata": {
  "kernelspec": {
   "name": "python394jvsc74a57bd03729a6ff7676ad95e807d2f5f3db9a400fbe0daa61d45f8837682fe7ac233198",
   "display_name": "Python 3.9.4 64-bit"
  },
  "language_info": {
   "codemirror_mode": {
    "name": "ipython",
    "version": 3
   },
   "file_extension": ".py",
   "mimetype": "text/x-python",
   "name": "python",
   "nbconvert_exporter": "python",
   "pygments_lexer": "ipython3",
   "version": "3.9.4"
  },
  "metadata": {
   "interpreter": {
    "hash": "3729a6ff7676ad95e807d2f5f3db9a400fbe0daa61d45f8837682fe7ac233198"
   }
  }
 },
 "nbformat": 4,
 "nbformat_minor": 2
}